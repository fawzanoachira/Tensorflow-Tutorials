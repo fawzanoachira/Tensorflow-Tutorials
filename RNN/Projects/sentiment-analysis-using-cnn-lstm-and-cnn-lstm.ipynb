{
 "cells": [
  {
   "cell_type": "markdown",
   "id": "4792ced6",
   "metadata": {
    "papermill": {
     "duration": 0.05073,
     "end_time": "2021-12-11T12:28:41.715805",
     "exception": false,
     "start_time": "2021-12-11T12:28:41.665075",
     "status": "completed"
    },
    "tags": []
   },
   "source": [
    "# Sentiment Analysis"
   ]
  },
  {
   "cell_type": "code",
   "execution_count": 4,
   "id": "8dc7b0bc",
   "metadata": {
    "execution": {
     "iopub.execute_input": "2021-12-11T12:28:42.739546Z",
     "iopub.status.busy": "2021-12-11T12:28:42.738936Z",
     "iopub.status.idle": "2021-12-11T12:28:42.752683Z",
     "shell.execute_reply": "2021-12-11T12:28:42.753546Z",
     "shell.execute_reply.started": "2021-12-11T11:52:39.532613Z"
    },
    "papermill": {
     "duration": 0.075833,
     "end_time": "2021-12-11T12:28:42.753770",
     "exception": false,
     "start_time": "2021-12-11T12:28:42.677937",
     "status": "completed"
    },
    "tags": []
   },
   "outputs": [
    {
     "name": "stdout",
     "output_type": "stream",
     "text": [
      "/kaggle/input/images/LSTM_CNN_image.png\n",
      "/kaggle/input/images/CNN-LSTM_image.png\n",
      "/kaggle/input/images/CNNs.png\n",
      "/kaggle/input/imdb-dataset-of-50k-movie-reviews/IMDB Dataset.csv\n"
     ]
    }
   ],
   "source": [
    "# This Python 3 environment comes with many helpful analytics libraries installed\n",
    "# It is defined by the kaggle/python Docker image: https://github.com/kaggle/docker-python\n",
    "# For example, here's several helpful packages to load\n",
    "\n",
    "import numpy as np # linear algebra\n",
    "import pandas as pd # data processing, CSV file I/O (e.g. pd.read_csv)\n",
    "\n",
    "# Input data files are available in the read-only \"../input/\" directory\n",
    "# For example, running this (by clicking run or pressing Shift+Enter) will list all files under the input directory\n",
    "\n",
    "import os\n",
    "for dirname, _, filenames in os.walk('/kaggle/input'):\n",
    "    for filename in filenames:\n",
    "        print(os.path.join(dirname, filename))\n",
    "\n",
    "# You can write up to 20GB to the current directory (/kaggle/working/) that gets preserved as output when you create a version using \"Save & Run All\" \n",
    "# You can also write temporary files to /kaggle/temp/, but they won't be saved outside of the current session"
   ]
  },
  {
   "cell_type": "markdown",
   "id": "d2d87a39",
   "metadata": {
    "papermill": {
     "duration": 0.056345,
     "end_time": "2021-12-11T12:28:42.869202",
     "exception": false,
     "start_time": "2021-12-11T12:28:42.812857",
     "status": "completed"
    },
    "tags": []
   },
   "source": [
    "### load needed libraries"
   ]
  },
  {
   "cell_type": "code",
   "execution_count": 5,
   "id": "639ae6d4",
   "metadata": {
    "execution": {
     "iopub.execute_input": "2021-12-11T12:28:42.987798Z",
     "iopub.status.busy": "2021-12-11T12:28:42.987087Z",
     "iopub.status.idle": "2021-12-11T12:28:50.190296Z",
     "shell.execute_reply": "2021-12-11T12:28:50.189812Z",
     "shell.execute_reply.started": "2021-12-11T12:22:35.942582Z"
    },
    "papermill": {
     "duration": 7.265326,
     "end_time": "2021-12-11T12:28:50.190432",
     "exception": false,
     "start_time": "2021-12-11T12:28:42.925106",
     "status": "completed"
    },
    "tags": []
   },
   "outputs": [],
   "source": [
    "import os\n",
    "import numpy as np\n",
    "import pandas as pd\n",
    "import seaborn as sns\n",
    "import matplotlib.pyplot as plt\n",
    "from nltk.corpus import stopwords\n",
    "from nltk.stem import WordNetLemmatizer\n",
    "from nltk.tokenize import word_tokenize\n",
    "from wordcloud import WordCloud,STOPWORDS\n",
    "from bs4 import BeautifulSoup\n",
    "import re,string,unicodedata\n",
    "import os\n",
    "from IPython.display import Image\n",
    "\n",
    "from sklearn.feature_extraction.text import CountVectorizer, TfidfVectorizer\n",
    "from sklearn.linear_model import LogisticRegression\n",
    "from sklearn.svm import LinearSVC\n",
    "from sklearn.ensemble import GradientBoostingClassifier\n",
    "from sklearn.naive_bayes import GaussianNB, MultinomialNB\n",
    "from sklearn.model_selection import train_test_split\n",
    "from sklearn.metrics import classification_report, accuracy_score, confusion_matrix, plot_confusion_matrix, plot_roc_curve, plot_precision_recall_curve\n",
    "#from xgboost.sklearn import XGBClassifier\n",
    "\n",
    "import tensorflow as tf\n",
    "from tensorflow.keras.preprocessing.text import Tokenizer\n",
    "from tensorflow.keras.preprocessing.sequence import pad_sequences\n",
    "from tensorflow.keras.callbacks import ModelCheckpoint\n",
    "from tensorflow.keras.layers import Dense,Input, Embedding,LSTM,Dropout,Conv1D, MaxPooling1D, GlobalMaxPooling1D,Dropout,Bidirectional,Flatten,BatchNormalization\n",
    "from tensorflow.keras.callbacks import EarlyStopping\n",
    "from tensorflow.keras.models import Model\n",
    "from tensorflow.keras.optimizers import Adam\n",
    "from tensorflow.keras.utils import plot_model\n",
    "#import transformers\n",
    "#import tokenizers"
   ]
  },
  {
   "cell_type": "markdown",
   "id": "8d7ea34b",
   "metadata": {
    "papermill": {
     "duration": 0.051672,
     "end_time": "2021-12-11T12:28:50.294265",
     "exception": false,
     "start_time": "2021-12-11T12:28:50.242593",
     "status": "completed"
    },
    "tags": []
   },
   "source": [
    "### load our data"
   ]
  },
  {
   "cell_type": "code",
   "execution_count": 6,
   "id": "33b971b4",
   "metadata": {
    "execution": {
     "iopub.execute_input": "2021-12-11T12:28:50.402230Z",
     "iopub.status.busy": "2021-12-11T12:28:50.401732Z",
     "iopub.status.idle": "2021-12-11T12:28:52.207327Z",
     "shell.execute_reply": "2021-12-11T12:28:52.208363Z",
     "shell.execute_reply.started": "2021-12-11T11:52:39.561693Z"
    },
    "papermill": {
     "duration": 1.862948,
     "end_time": "2021-12-11T12:28:52.208620",
     "exception": false,
     "start_time": "2021-12-11T12:28:50.345672",
     "status": "completed"
    },
    "tags": []
   },
   "outputs": [],
   "source": [
    "data = pd.read_csv('/kaggle/input/imdb-dataset-of-50k-movie-reviews/IMDB Dataset.csv')\n",
    "df= data.copy()"
   ]
  },
  {
   "cell_type": "markdown",
   "id": "66c2a1b7",
   "metadata": {
    "papermill": {
     "duration": 0.082672,
     "end_time": "2021-12-11T12:28:52.374812",
     "exception": false,
     "start_time": "2021-12-11T12:28:52.292140",
     "status": "completed"
    },
    "tags": []
   },
   "source": [
    "### Data preprocessing"
   ]
  },
  {
   "cell_type": "code",
   "execution_count": 7,
   "id": "16bf652c",
   "metadata": {
    "execution": {
     "iopub.execute_input": "2021-12-11T12:28:52.483095Z",
     "iopub.status.busy": "2021-12-11T12:28:52.482534Z",
     "iopub.status.idle": "2021-12-11T12:28:52.494810Z",
     "shell.execute_reply": "2021-12-11T12:28:52.494341Z",
     "shell.execute_reply.started": "2021-12-11T11:52:40.175722Z"
    },
    "papermill": {
     "duration": 0.069485,
     "end_time": "2021-12-11T12:28:52.494939",
     "exception": false,
     "start_time": "2021-12-11T12:28:52.425454",
     "status": "completed"
    },
    "tags": []
   },
   "outputs": [
    {
     "data": {
      "text/html": [
       "<div>\n",
       "<style scoped>\n",
       "    .dataframe tbody tr th:only-of-type {\n",
       "        vertical-align: middle;\n",
       "    }\n",
       "\n",
       "    .dataframe tbody tr th {\n",
       "        vertical-align: top;\n",
       "    }\n",
       "\n",
       "    .dataframe thead th {\n",
       "        text-align: right;\n",
       "    }\n",
       "</style>\n",
       "<table border=\"1\" class=\"dataframe\">\n",
       "  <thead>\n",
       "    <tr style=\"text-align: right;\">\n",
       "      <th></th>\n",
       "      <th>review</th>\n",
       "      <th>sentiment</th>\n",
       "    </tr>\n",
       "  </thead>\n",
       "  <tbody>\n",
       "    <tr>\n",
       "      <th>0</th>\n",
       "      <td>One of the other reviewers has mentioned that ...</td>\n",
       "      <td>positive</td>\n",
       "    </tr>\n",
       "    <tr>\n",
       "      <th>1</th>\n",
       "      <td>A wonderful little production. &lt;br /&gt;&lt;br /&gt;The...</td>\n",
       "      <td>positive</td>\n",
       "    </tr>\n",
       "    <tr>\n",
       "      <th>2</th>\n",
       "      <td>I thought this was a wonderful way to spend ti...</td>\n",
       "      <td>positive</td>\n",
       "    </tr>\n",
       "    <tr>\n",
       "      <th>3</th>\n",
       "      <td>Basically there's a family where a little boy ...</td>\n",
       "      <td>negative</td>\n",
       "    </tr>\n",
       "    <tr>\n",
       "      <th>4</th>\n",
       "      <td>Petter Mattei's \"Love in the Time of Money\" is...</td>\n",
       "      <td>positive</td>\n",
       "    </tr>\n",
       "  </tbody>\n",
       "</table>\n",
       "</div>"
      ],
      "text/plain": [
       "                                              review sentiment\n",
       "0  One of the other reviewers has mentioned that ...  positive\n",
       "1  A wonderful little production. <br /><br />The...  positive\n",
       "2  I thought this was a wonderful way to spend ti...  positive\n",
       "3  Basically there's a family where a little boy ...  negative\n",
       "4  Petter Mattei's \"Love in the Time of Money\" is...  positive"
      ]
     },
     "execution_count": 7,
     "metadata": {},
     "output_type": "execute_result"
    }
   ],
   "source": [
    "data.head()"
   ]
  },
  {
   "cell_type": "code",
   "execution_count": 8,
   "id": "e80455c4",
   "metadata": {
    "execution": {
     "iopub.execute_input": "2021-12-11T12:28:52.602713Z",
     "iopub.status.busy": "2021-12-11T12:28:52.602049Z",
     "iopub.status.idle": "2021-12-11T12:28:52.604643Z",
     "shell.execute_reply": "2021-12-11T12:28:52.605059Z",
     "shell.execute_reply.started": "2021-12-11T11:52:40.188403Z"
    },
    "papermill": {
     "duration": 0.058174,
     "end_time": "2021-12-11T12:28:52.605178",
     "exception": false,
     "start_time": "2021-12-11T12:28:52.547004",
     "status": "completed"
    },
    "tags": []
   },
   "outputs": [
    {
     "data": {
      "text/plain": [
       "(50000, 2)"
      ]
     },
     "execution_count": 8,
     "metadata": {},
     "output_type": "execute_result"
    }
   ],
   "source": [
    "data.shape"
   ]
  },
  {
   "cell_type": "code",
   "execution_count": 9,
   "id": "ab79406d",
   "metadata": {
    "execution": {
     "iopub.execute_input": "2021-12-11T12:28:52.731310Z",
     "iopub.status.busy": "2021-12-11T12:28:52.730387Z",
     "iopub.status.idle": "2021-12-11T12:28:52.752438Z",
     "shell.execute_reply": "2021-12-11T12:28:52.752885Z",
     "shell.execute_reply.started": "2021-12-11T11:52:40.201189Z"
    },
    "papermill": {
     "duration": 0.096694,
     "end_time": "2021-12-11T12:28:52.753057",
     "exception": false,
     "start_time": "2021-12-11T12:28:52.656363",
     "status": "completed"
    },
    "tags": []
   },
   "outputs": [
    {
     "name": "stdout",
     "output_type": "stream",
     "text": [
      "<class 'pandas.core.frame.DataFrame'>\n",
      "RangeIndex: 50000 entries, 0 to 49999\n",
      "Data columns (total 2 columns):\n",
      " #   Column     Non-Null Count  Dtype \n",
      "---  ------     --------------  ----- \n",
      " 0   review     50000 non-null  object\n",
      " 1   sentiment  50000 non-null  object\n",
      "dtypes: object(2)\n",
      "memory usage: 781.4+ KB\n"
     ]
    }
   ],
   "source": [
    "data.info()"
   ]
  },
  {
   "cell_type": "code",
   "execution_count": 10,
   "id": "73ecb28a",
   "metadata": {
    "execution": {
     "iopub.execute_input": "2021-12-11T12:28:52.930717Z",
     "iopub.status.busy": "2021-12-11T12:28:52.929356Z",
     "iopub.status.idle": "2021-12-11T12:28:52.958577Z",
     "shell.execute_reply": "2021-12-11T12:28:52.958111Z",
     "shell.execute_reply.started": "2021-12-11T11:52:40.233371Z"
    },
    "papermill": {
     "duration": 0.149305,
     "end_time": "2021-12-11T12:28:52.958702",
     "exception": false,
     "start_time": "2021-12-11T12:28:52.809397",
     "status": "completed"
    },
    "tags": []
   },
   "outputs": [
    {
     "data": {
      "text/html": [
       "<div>\n",
       "<style scoped>\n",
       "    .dataframe tbody tr th:only-of-type {\n",
       "        vertical-align: middle;\n",
       "    }\n",
       "\n",
       "    .dataframe tbody tr th {\n",
       "        vertical-align: top;\n",
       "    }\n",
       "\n",
       "    .dataframe thead th {\n",
       "        text-align: right;\n",
       "    }\n",
       "</style>\n",
       "<table border=\"1\" class=\"dataframe\">\n",
       "  <thead>\n",
       "    <tr style=\"text-align: right;\">\n",
       "      <th></th>\n",
       "      <th>review</th>\n",
       "      <th>sentiment</th>\n",
       "    </tr>\n",
       "  </thead>\n",
       "  <tbody>\n",
       "    <tr>\n",
       "      <th>count</th>\n",
       "      <td>50000</td>\n",
       "      <td>50000</td>\n",
       "    </tr>\n",
       "    <tr>\n",
       "      <th>unique</th>\n",
       "      <td>49582</td>\n",
       "      <td>2</td>\n",
       "    </tr>\n",
       "    <tr>\n",
       "      <th>top</th>\n",
       "      <td>Loved today's show!!! It was a variety and not...</td>\n",
       "      <td>positive</td>\n",
       "    </tr>\n",
       "    <tr>\n",
       "      <th>freq</th>\n",
       "      <td>5</td>\n",
       "      <td>25000</td>\n",
       "    </tr>\n",
       "  </tbody>\n",
       "</table>\n",
       "</div>"
      ],
      "text/plain": [
       "                                                   review sentiment\n",
       "count                                               50000     50000\n",
       "unique                                              49582         2\n",
       "top     Loved today's show!!! It was a variety and not...  positive\n",
       "freq                                                    5     25000"
      ]
     },
     "execution_count": 10,
     "metadata": {},
     "output_type": "execute_result"
    }
   ],
   "source": [
    "data.describe()"
   ]
  },
  {
   "cell_type": "code",
   "execution_count": 11,
   "id": "b613dcfd",
   "metadata": {
    "execution": {
     "iopub.execute_input": "2021-12-11T12:28:53.076826Z",
     "iopub.status.busy": "2021-12-11T12:28:53.075603Z",
     "iopub.status.idle": "2021-12-11T12:28:53.078785Z",
     "shell.execute_reply": "2021-12-11T12:28:53.079159Z",
     "shell.execute_reply.started": "2021-12-11T11:52:40.338182Z"
    },
    "papermill": {
     "duration": 0.068425,
     "end_time": "2021-12-11T12:28:53.079296",
     "exception": false,
     "start_time": "2021-12-11T12:28:53.010871",
     "status": "completed"
    },
    "tags": []
   },
   "outputs": [
    {
     "data": {
      "text/plain": [
       "positive    25000\n",
       "negative    25000\n",
       "Name: sentiment, dtype: int64"
      ]
     },
     "execution_count": 11,
     "metadata": {},
     "output_type": "execute_result"
    }
   ],
   "source": [
    "data['sentiment'].value_counts()"
   ]
  },
  {
   "cell_type": "markdown",
   "id": "3172edc6",
   "metadata": {
    "papermill": {
     "duration": 0.052068,
     "end_time": "2021-12-11T12:28:53.183566",
     "exception": false,
     "start_time": "2021-12-11T12:28:53.131498",
     "status": "completed"
    },
    "tags": []
   },
   "source": [
    "### Data Cleaning"
   ]
  },
  {
   "cell_type": "code",
   "execution_count": 12,
   "id": "baf130d6",
   "metadata": {
    "execution": {
     "iopub.execute_input": "2021-12-11T12:28:53.305129Z",
     "iopub.status.busy": "2021-12-11T12:28:53.304362Z",
     "iopub.status.idle": "2021-12-11T12:28:53.309836Z",
     "shell.execute_reply": "2021-12-11T12:28:53.309405Z",
     "shell.execute_reply.started": "2021-12-11T11:52:40.357108Z"
    },
    "papermill": {
     "duration": 0.073453,
     "end_time": "2021-12-11T12:28:53.309945",
     "exception": false,
     "start_time": "2021-12-11T12:28:53.236492",
     "status": "completed"
    },
    "tags": []
   },
   "outputs": [
    {
     "data": {
      "text/plain": [
       "review       0\n",
       "sentiment    0\n",
       "dtype: int64"
      ]
     },
     "execution_count": 12,
     "metadata": {},
     "output_type": "execute_result"
    }
   ],
   "source": [
    "data.isnull().sum()"
   ]
  },
  {
   "cell_type": "code",
   "execution_count": 13,
   "id": "1ed7aca2",
   "metadata": {
    "execution": {
     "iopub.execute_input": "2021-12-11T12:28:53.436947Z",
     "iopub.status.busy": "2021-12-11T12:28:53.421213Z",
     "iopub.status.idle": "2021-12-11T12:28:53.582272Z",
     "shell.execute_reply": "2021-12-11T12:28:53.581872Z",
     "shell.execute_reply.started": "2021-12-11T11:52:40.378545Z"
    },
    "papermill": {
     "duration": 0.220043,
     "end_time": "2021-12-11T12:28:53.582385",
     "exception": false,
     "start_time": "2021-12-11T12:28:53.362342",
     "status": "completed"
    },
    "tags": []
   },
   "outputs": [
    {
     "data": {
      "text/plain": [
       "418"
      ]
     },
     "execution_count": 13,
     "metadata": {},
     "output_type": "execute_result"
    }
   ],
   "source": [
    " data.duplicated().sum()"
   ]
  },
  {
   "cell_type": "code",
   "execution_count": 14,
   "id": "3df6130f",
   "metadata": {
    "execution": {
     "iopub.execute_input": "2021-12-11T12:28:53.701226Z",
     "iopub.status.busy": "2021-12-11T12:28:53.700439Z",
     "iopub.status.idle": "2021-12-11T12:28:53.866125Z",
     "shell.execute_reply": "2021-12-11T12:28:53.865010Z",
     "shell.execute_reply.started": "2021-12-11T11:52:40.554628Z"
    },
    "papermill": {
     "duration": 0.231297,
     "end_time": "2021-12-11T12:28:53.866265",
     "exception": false,
     "start_time": "2021-12-11T12:28:53.634968",
     "status": "completed"
    },
    "tags": []
   },
   "outputs": [],
   "source": [
    "data.drop_duplicates(inplace = True)"
   ]
  },
  {
   "cell_type": "code",
   "execution_count": 15,
   "id": "a05fe42c",
   "metadata": {
    "execution": {
     "iopub.execute_input": "2021-12-11T12:28:53.981794Z",
     "iopub.status.busy": "2021-12-11T12:28:53.980909Z",
     "iopub.status.idle": "2021-12-11T12:28:53.983944Z",
     "shell.execute_reply": "2021-12-11T12:28:53.984334Z",
     "shell.execute_reply.started": "2021-12-11T11:52:40.713465Z"
    },
    "papermill": {
     "duration": 0.062702,
     "end_time": "2021-12-11T12:28:53.984482",
     "exception": false,
     "start_time": "2021-12-11T12:28:53.921780",
     "status": "completed"
    },
    "tags": []
   },
   "outputs": [
    {
     "data": {
      "text/plain": [
       "(49582, 2)"
      ]
     },
     "execution_count": 15,
     "metadata": {},
     "output_type": "execute_result"
    }
   ],
   "source": [
    "data.shape"
   ]
  },
  {
   "cell_type": "code",
   "execution_count": 16,
   "id": "f6f7b1d5",
   "metadata": {
    "execution": {
     "iopub.execute_input": "2021-12-11T12:28:54.094591Z",
     "iopub.status.busy": "2021-12-11T12:28:54.094016Z",
     "iopub.status.idle": "2021-12-11T12:28:54.101922Z",
     "shell.execute_reply": "2021-12-11T12:28:54.101516Z",
     "shell.execute_reply.started": "2021-12-11T11:52:40.720567Z"
    },
    "papermill": {
     "duration": 0.064943,
     "end_time": "2021-12-11T12:28:54.102028",
     "exception": false,
     "start_time": "2021-12-11T12:28:54.037085",
     "status": "completed"
    },
    "tags": []
   },
   "outputs": [],
   "source": [
    "stop = stopwords.words('english')\n",
    "wl = WordNetLemmatizer()"
   ]
  },
  {
   "cell_type": "code",
   "execution_count": 17,
   "id": "dcf5d49d",
   "metadata": {
    "execution": {
     "iopub.execute_input": "2021-12-11T12:28:54.223163Z",
     "iopub.status.busy": "2021-12-11T12:28:54.221341Z",
     "iopub.status.idle": "2021-12-11T12:28:54.223798Z",
     "shell.execute_reply": "2021-12-11T12:28:54.224204Z",
     "shell.execute_reply.started": "2021-12-11T11:52:40.730409Z"
    },
    "papermill": {
     "duration": 0.06959,
     "end_time": "2021-12-11T12:28:54.224323",
     "exception": false,
     "start_time": "2021-12-11T12:28:54.154733",
     "status": "completed"
    },
    "tags": []
   },
   "outputs": [],
   "source": [
    "mapping = {\"ain't\": \"is not\", \"aren't\": \"are not\",\"can't\": \"cannot\", \n",
    "           \"'cause\": \"because\", \"could've\": \"could have\", \"couldn't\": \"could not\", \n",
    "           \"didn't\": \"did not\",  \"doesn't\": \"does not\", \"don't\": \"do not\", \"hadn't\": \"had not\", \n",
    "           \"hasn't\": \"has not\", \"haven't\": \"have not\", \"he'd\": \"he would\",\"he'll\": \"he will\", \n",
    "           \"he's\": \"he is\", \"how'd\": \"how did\", \"how'd'y\": \"how do you\", \"how'll\": \"how will\", \n",
    "           \"how's\": \"how is\",  \"I'd\": \"I would\", \"I'd've\": \"I would have\", \"I'll\": \"I will\", \n",
    "           \"I'll've\": \"I will have\",\"I'm\": \"I am\", \"I've\": \"I have\", \"i'd\": \"i would\", \n",
    "           \"i'd've\": \"i would have\", \"i'll\": \"i will\",  \"i'll've\": \"i will have\",\n",
    "           \"i'm\": \"i am\", \"i've\": \"i have\", \"isn't\": \"is not\", \"it'd\": \"it would\", \n",
    "           \"it'd've\": \"it would have\", \"it'll\": \"it will\", \"it'll've\": \"it will have\",\n",
    "           \"it's\": \"it is\", \"let's\": \"let us\", \"ma'am\": \"madam\", \"mayn't\": \"may not\", \n",
    "           \"might've\": \"might have\",\"mightn't\": \"might not\",\"mightn't've\": \"might not have\", \n",
    "           \"must've\": \"must have\", \"mustn't\": \"must not\", \"mustn't've\": \"must not have\", \n",
    "           \"needn't\": \"need not\", \"needn't've\": \"need not have\",\"o'clock\": \"of the clock\", \n",
    "           \"oughtn't\": \"ought not\", \"oughtn't've\": \"ought not have\", \"shan't\": \"shall not\", \n",
    "           \"sha'n't\": \"shall not\", \"shan't've\": \"shall not have\", \"she'd\": \"she would\", \n",
    "           \"she'd've\": \"she would have\", \"she'll\": \"she will\", \"she'll've\": \"she will have\", \n",
    "           \"she's\": \"she is\", \"should've\": \"should have\", \"shouldn't\": \"should not\", \n",
    "           \"shouldn't've\": \"should not have\", \"so've\": \"so have\",\"so's\": \"so as\", \"this's\": \"this is\",\n",
    "           \"that'd\": \"that would\", \"that'd've\": \"that would have\", \"that's\": \"that is\", \n",
    "           \"there'd\": \"there would\", \"there'd've\": \"there would have\", \"there's\": \"there is\", \n",
    "           \"here's\": \"here is\",\"they'd\": \"they would\", \"they'd've\": \"they would have\", \n",
    "           \"they'll\": \"they will\", \"they'll've\": \"they will have\", \"they're\": \"they are\", \n",
    "           \"they've\": \"they have\", \"to've\": \"to have\", \"wasn't\": \"was not\", \"we'd\": \"we would\", \n",
    "           \"we'd've\": \"we would have\", \"we'll\": \"we will\", \"we'll've\": \"we will have\", \n",
    "           \"we're\": \"we are\", \"we've\": \"we have\", \"weren't\": \"were not\", \n",
    "           \"what'll\": \"what will\", \"what'll've\": \"what will have\",\"what're\": \"what are\",  \n",
    "           \"what's\": \"what is\", \"what've\": \"what have\", \"when's\": \"when is\", \"when've\": \"when have\", \n",
    "           \"where'd\": \"where did\", \"where's\": \"where is\", \"where've\": \"where have\", \"who'll\": \"who will\", \n",
    "           \"who'll've\": \"who will have\", \"who's\": \"who is\", \"who've\": \"who have\", \"why's\": \"why is\", \n",
    "           \"why've\": \"why have\", \"will've\": \"will have\", \"won't\": \"will not\", \"won't've\": \"will not have\", \n",
    "           \"would've\": \"would have\", \"wouldn't\": \"would not\", \"wouldn't've\": \"would not have\", \n",
    "           \"y'all\": \"you all\", \"y'all'd\": \"you all would\",\"y'all'd've\": \"you all would have\",\n",
    "           \"y'all're\": \"you all are\",\"y'all've\": \"you all have\",\"you'd\": \"you would\", \n",
    "           \"you'd've\": \"you would have\", \"you'll\": \"you will\", \"you'll've\": \"you will have\", \n",
    "           \"you're\": \"you are\", \"you've\": \"you have\" }"
   ]
  },
  {
   "cell_type": "code",
   "execution_count": 18,
   "id": "9c62c726",
   "metadata": {
    "execution": {
     "iopub.execute_input": "2021-12-11T12:28:54.341714Z",
     "iopub.status.busy": "2021-12-11T12:28:54.340937Z",
     "iopub.status.idle": "2021-12-11T12:28:54.504990Z",
     "shell.execute_reply": "2021-12-11T12:28:54.504436Z",
     "shell.execute_reply.started": "2021-12-11T11:52:40.748132Z"
    },
    "papermill": {
     "duration": 0.227487,
     "end_time": "2021-12-11T12:28:54.505117",
     "exception": false,
     "start_time": "2021-12-11T12:28:54.277630",
     "status": "completed"
    },
    "tags": []
   },
   "outputs": [
    {
     "name": "stdout",
     "output_type": "stream",
     "text": [
      "[nltk_data] Downloading package wordnet to /usr/share/nltk_data...\n",
      "[nltk_data]   Package wordnet is already up-to-date!\n"
     ]
    }
   ],
   "source": [
    "#function to clean data\n",
    "\n",
    "import nltk\n",
    "nltk.download('wordnet')\n",
    "def clean_text(text,lemmatize = True):\n",
    "    soup = BeautifulSoup(text, \"html.parser\") #remove html tags\n",
    "    text = soup.get_text()\n",
    "    text = ' '.join([mapping[t] if t in mapping else t for t in text.split(\" \")]) #expanding chatwords and contracts clearing contractions\n",
    "    emoji_clean= re.compile(\"[\"\n",
    "                           u\"\\U0001F600-\\U0001F64F\"  # emoticons\n",
    "                           u\"\\U0001F300-\\U0001F5FF\"  # symbols & pictographs\n",
    "                           u\"\\U0001F680-\\U0001F6FF\"  # transport & map symbols\n",
    "                           u\"\\U0001F1E0-\\U0001F1FF\"  # flags (iOS)\n",
    "                           u\"\\U00002702-\\U000027B0\"\n",
    "                           u\"\\U000024C2-\\U0001F251\"\n",
    "                           \"]+\", flags=re.UNICODE)\n",
    "    text = emoji_clean.sub(r'',text)\n",
    "    text = re.sub(r'\\.(?=\\S)', '. ',text) #add space after full stop\n",
    "    text = re.sub(r'http\\S+', '', text) #remove urls\n",
    "    text = \"\".join([word.lower() for word in text if word not in string.punctuation]) #remove punctuation\n",
    "    #tokens = re.split('\\W+', text) #create tokens\n",
    "    if lemmatize:\n",
    "        text = \" \".join([wl.lemmatize(word) for word in text.split() if word not in stop and word.isalpha()]) #lemmatize\n",
    "    else:\n",
    "        text = \" \".join([word for word in text.split() if word not in stop and word.isalpha()]) \n",
    "    return text"
   ]
  },
  {
   "cell_type": "code",
   "execution_count": 19,
   "id": "bd532ca8",
   "metadata": {
    "execution": {
     "iopub.execute_input": "2021-12-11T12:28:54.623235Z",
     "iopub.status.busy": "2021-12-11T12:28:54.622416Z",
     "iopub.status.idle": "2021-12-11T12:30:11.879041Z",
     "shell.execute_reply": "2021-12-11T12:30:11.878464Z",
     "shell.execute_reply.started": "2021-12-11T11:52:40.762579Z"
    },
    "papermill": {
     "duration": 77.318906,
     "end_time": "2021-12-11T12:30:11.879191",
     "exception": false,
     "start_time": "2021-12-11T12:28:54.560285",
     "status": "completed"
    },
    "tags": []
   },
   "outputs": [],
   "source": [
    "data['review']=data['review'].apply(clean_text,lemmatize = True)"
   ]
  },
  {
   "cell_type": "code",
   "execution_count": 20,
   "id": "7e37b44b",
   "metadata": {
    "execution": {
     "iopub.execute_input": "2021-12-11T12:30:11.990139Z",
     "iopub.status.busy": "2021-12-11T12:30:11.989276Z",
     "iopub.status.idle": "2021-12-11T12:30:12.027857Z",
     "shell.execute_reply": "2021-12-11T12:30:12.028293Z",
     "shell.execute_reply.started": "2021-12-11T11:53:57.500572Z"
    },
    "papermill": {
     "duration": 0.095064,
     "end_time": "2021-12-11T12:30:12.028422",
     "exception": false,
     "start_time": "2021-12-11T12:30:11.933358",
     "status": "completed"
    },
    "tags": []
   },
   "outputs": [
    {
     "data": {
      "text/html": [
       "<div>\n",
       "<style scoped>\n",
       "    .dataframe tbody tr th:only-of-type {\n",
       "        vertical-align: middle;\n",
       "    }\n",
       "\n",
       "    .dataframe tbody tr th {\n",
       "        vertical-align: top;\n",
       "    }\n",
       "\n",
       "    .dataframe thead th {\n",
       "        text-align: right;\n",
       "    }\n",
       "</style>\n",
       "<table border=\"1\" class=\"dataframe\">\n",
       "  <thead>\n",
       "    <tr style=\"text-align: right;\">\n",
       "      <th></th>\n",
       "      <th>review</th>\n",
       "      <th>sentiment</th>\n",
       "    </tr>\n",
       "  </thead>\n",
       "  <tbody>\n",
       "    <tr>\n",
       "      <th>0</th>\n",
       "      <td>one reviewer mentioned watching oz episode hoo...</td>\n",
       "      <td>1</td>\n",
       "    </tr>\n",
       "    <tr>\n",
       "      <th>1</th>\n",
       "      <td>wonderful little production filming technique ...</td>\n",
       "      <td>1</td>\n",
       "    </tr>\n",
       "    <tr>\n",
       "      <th>2</th>\n",
       "      <td>thought wonderful way spend time hot summer we...</td>\n",
       "      <td>1</td>\n",
       "    </tr>\n",
       "    <tr>\n",
       "      <th>3</th>\n",
       "      <td>basically family little boy jake think zombie ...</td>\n",
       "      <td>0</td>\n",
       "    </tr>\n",
       "    <tr>\n",
       "      <th>4</th>\n",
       "      <td>petter matteis love time money visually stunni...</td>\n",
       "      <td>1</td>\n",
       "    </tr>\n",
       "  </tbody>\n",
       "</table>\n",
       "</div>"
      ],
      "text/plain": [
       "                                              review  sentiment\n",
       "0  one reviewer mentioned watching oz episode hoo...          1\n",
       "1  wonderful little production filming technique ...          1\n",
       "2  thought wonderful way spend time hot summer we...          1\n",
       "3  basically family little boy jake think zombie ...          0\n",
       "4  petter matteis love time money visually stunni...          1"
      ]
     },
     "execution_count": 20,
     "metadata": {},
     "output_type": "execute_result"
    }
   ],
   "source": [
    "#converting target variable to numeric labels\n",
    "data.sentiment = [ 1 if each == \"positive\" else 0 for each in data.sentiment]\n",
    "data.head()"
   ]
  },
  {
   "cell_type": "markdown",
   "id": "bc6ff644",
   "metadata": {
    "papermill": {
     "duration": 0.053388,
     "end_time": "2021-12-11T12:30:12.135764",
     "exception": false,
     "start_time": "2021-12-11T12:30:12.082376",
     "status": "completed"
    },
    "tags": []
   },
   "source": [
    "#### Spliting the training dataset\n"
   ]
  },
  {
   "cell_type": "code",
   "execution_count": 21,
   "id": "ae9604fb",
   "metadata": {
    "execution": {
     "iopub.execute_input": "2021-12-11T12:30:12.251758Z",
     "iopub.status.busy": "2021-12-11T12:30:12.251065Z",
     "iopub.status.idle": "2021-12-11T12:30:12.262187Z",
     "shell.execute_reply": "2021-12-11T12:30:12.262728Z",
     "shell.execute_reply.started": "2021-12-11T11:53:57.543375Z"
    },
    "papermill": {
     "duration": 0.073522,
     "end_time": "2021-12-11T12:30:12.262896",
     "exception": false,
     "start_time": "2021-12-11T12:30:12.189374",
     "status": "completed"
    },
    "tags": []
   },
   "outputs": [
    {
     "name": "stdout",
     "output_type": "stream",
     "text": [
      "(39665,) (39665,)\n",
      "(9917,) (9917,)\n"
     ]
    }
   ],
   "source": [
    "#splitting into train and test\n",
    "train, test= train_test_split(data, test_size=0.2, random_state=42)\n",
    "\n",
    "#train dataset\n",
    "Xtrain, ytrain = train['review'], train['sentiment']\n",
    "\n",
    "#test dataset\n",
    "Xtest, ytest = test['review'], test['sentiment']\n",
    "\n",
    "print(Xtrain.shape,ytrain.shape)\n",
    "print(Xtest.shape,ytest.shape)"
   ]
  },
  {
   "cell_type": "markdown",
   "id": "064d63c4",
   "metadata": {
    "papermill": {
     "duration": 0.063108,
     "end_time": "2021-12-11T12:30:12.381009",
     "exception": false,
     "start_time": "2021-12-11T12:30:12.317901",
     "status": "completed"
    },
    "tags": []
   },
   "source": [
    "#### Vectorizing data\n",
    "\n",
    "\n"
   ]
  },
  {
   "cell_type": "code",
   "execution_count": 22,
   "id": "ddfc1239",
   "metadata": {
    "execution": {
     "iopub.execute_input": "2021-12-11T12:30:12.493074Z",
     "iopub.status.busy": "2021-12-11T12:30:12.492284Z",
     "iopub.status.idle": "2021-12-11T12:30:25.882742Z",
     "shell.execute_reply": "2021-12-11T12:30:25.882192Z",
     "shell.execute_reply.started": "2021-12-11T11:53:57.560390Z"
    },
    "papermill": {
     "duration": 13.446693,
     "end_time": "2021-12-11T12:30:25.882884",
     "exception": false,
     "start_time": "2021-12-11T12:30:12.436191",
     "status": "completed"
    },
    "tags": []
   },
   "outputs": [],
   "source": [
    "vect = TfidfVectorizer()\n",
    "Xtrain_vect= vect.fit_transform(Xtrain)\n",
    "Xtest_vect = vect.transform(Xtest)\n",
    "\n",
    "\n",
    "count_vect = CountVectorizer() \n",
    "Xtrain_count = count_vect.fit_transform(Xtrain)\n",
    "Xtest_count = count_vect.transform(Xtest)"
   ]
  },
  {
   "cell_type": "markdown",
   "id": "26fc03d0",
   "metadata": {
    "papermill": {
     "duration": 0.056301,
     "end_time": "2021-12-11T12:30:25.997166",
     "exception": false,
     "start_time": "2021-12-11T12:30:25.940865",
     "status": "completed"
    },
    "tags": []
   },
   "source": [
    "# 1- LSTM model"
   ]
  },
  {
   "cell_type": "code",
   "execution_count": 23,
   "id": "c77cbc4f",
   "metadata": {
    "execution": {
     "iopub.execute_input": "2021-12-11T12:30:26.158207Z",
     "iopub.status.busy": "2021-12-11T12:30:26.148003Z",
     "iopub.status.idle": "2021-12-11T12:30:29.951978Z",
     "shell.execute_reply": "2021-12-11T12:30:29.952809Z",
     "shell.execute_reply.started": "2021-12-11T11:54:12.065168Z"
    },
    "papermill": {
     "duration": 3.901934,
     "end_time": "2021-12-11T12:30:29.953019",
     "exception": false,
     "start_time": "2021-12-11T12:30:26.051085",
     "status": "completed"
    },
    "tags": []
   },
   "outputs": [
    {
     "name": "stdout",
     "output_type": "stream",
     "text": [
      "Vocabulary of the dataset is :  126096\n"
     ]
    }
   ],
   "source": [
    "MAX_VOCAB_SIZE = 10000\n",
    "tokenizer = Tokenizer(num_words = MAX_VOCAB_SIZE,oov_token=\"<oov>\")\n",
    "tokenizer.fit_on_texts(Xtrain)\n",
    "word_index = tokenizer.word_index\n",
    "#print(word_index)\n",
    "V = len(word_index)\n",
    "print(\"Vocabulary of the dataset is : \",V)"
   ]
  },
  {
   "cell_type": "code",
   "execution_count": 24,
   "id": "1bf16055",
   "metadata": {
    "execution": {
     "iopub.execute_input": "2021-12-11T12:30:30.066302Z",
     "iopub.status.busy": "2021-12-11T12:30:30.065473Z",
     "iopub.status.idle": "2021-12-11T12:30:33.876490Z",
     "shell.execute_reply": "2021-12-11T12:30:33.875861Z",
     "shell.execute_reply.started": "2021-12-11T11:54:16.215204Z"
    },
    "papermill": {
     "duration": 3.867992,
     "end_time": "2021-12-11T12:30:33.876615",
     "exception": false,
     "start_time": "2021-12-11T12:30:30.008623",
     "status": "completed"
    },
    "tags": []
   },
   "outputs": [],
   "source": [
    "##create sequences of reviews\n",
    "seq_train = tokenizer.texts_to_sequences(Xtrain)\n",
    "seq_test =  tokenizer.texts_to_sequences(Xtest)"
   ]
  },
  {
   "cell_type": "code",
   "execution_count": 25,
   "id": "5428c33b",
   "metadata": {
    "execution": {
     "iopub.execute_input": "2021-12-11T12:30:33.995972Z",
     "iopub.status.busy": "2021-12-11T12:30:33.995401Z",
     "iopub.status.idle": "2021-12-11T12:30:34.000178Z",
     "shell.execute_reply": "2021-12-11T12:30:33.999740Z",
     "shell.execute_reply.started": "2021-12-11T11:54:19.853295Z"
    },
    "papermill": {
     "duration": 0.06954,
     "end_time": "2021-12-11T12:30:34.000287",
     "exception": false,
     "start_time": "2021-12-11T12:30:33.930747",
     "status": "completed"
    },
    "tags": []
   },
   "outputs": [
    {
     "name": "stdout",
     "output_type": "stream",
     "text": [
      "Maximum length of sequence in the list: 1406\n"
     ]
    }
   ],
   "source": [
    "#choice of maximum length of sequences\n",
    "seq_len_list = [len(i) for i in seq_train + seq_test]\n",
    "\n",
    "#if we take the direct maximum then\n",
    "max_len=max(seq_len_list)\n",
    "print('Maximum length of sequence in the list: {}'.format(max_len))"
   ]
  },
  {
   "cell_type": "code",
   "execution_count": 26,
   "id": "92f52e98",
   "metadata": {
    "execution": {
     "iopub.execute_input": "2021-12-11T12:30:34.131900Z",
     "iopub.status.busy": "2021-12-11T12:30:34.131093Z",
     "iopub.status.idle": "2021-12-11T12:30:34.135667Z",
     "shell.execute_reply": "2021-12-11T12:30:34.135068Z",
     "shell.execute_reply.started": "2021-12-11T11:54:19.865339Z"
    },
    "papermill": {
     "duration": 0.080521,
     "end_time": "2021-12-11T12:30:34.135814",
     "exception": false,
     "start_time": "2021-12-11T12:30:34.055293",
     "status": "completed"
    },
    "tags": []
   },
   "outputs": [
    {
     "name": "stdout",
     "output_type": "stream",
     "text": [
      "Maximum length of the sequence when considering data only two standard deviations from average: 293\n"
     ]
    }
   ],
   "source": [
    "# when setting the maximum length of sequence, variability around the average is used.\n",
    "max_seq_len = np.mean(seq_len_list) + 2 * np.std(seq_len_list)\n",
    "max_seq_len = int(max_seq_len)\n",
    "print('Maximum length of the sequence when considering data only two standard deviations from average: {}'.format(max_seq_len))"
   ]
  },
  {
   "cell_type": "code",
   "execution_count": 27,
   "id": "9b8b333b",
   "metadata": {
    "execution": {
     "iopub.execute_input": "2021-12-11T12:30:34.258124Z",
     "iopub.status.busy": "2021-12-11T12:30:34.257295Z",
     "iopub.status.idle": "2021-12-11T12:30:34.261271Z",
     "shell.execute_reply": "2021-12-11T12:30:34.261860Z",
     "shell.execute_reply.started": "2021-12-11T11:54:19.898046Z"
    },
    "papermill": {
     "duration": 0.071195,
     "end_time": "2021-12-11T12:30:34.262023",
     "exception": false,
     "start_time": "2021-12-11T12:30:34.190828",
     "status": "completed"
    },
    "tags": []
   },
   "outputs": [
    {
     "name": "stdout",
     "output_type": "stream",
     "text": [
      "The above calculated number coveres approximately 94.51 % of data\n"
     ]
    }
   ],
   "source": [
    "perc_covered = np.sum(np.array(seq_len_list) < max_seq_len) / len(seq_len_list)*100\n",
    "print('The above calculated number coveres approximately {} % of data'.format(np.round(perc_covered,2)))"
   ]
  },
  {
   "cell_type": "code",
   "execution_count": 28,
   "id": "3ab9ca73",
   "metadata": {
    "execution": {
     "iopub.execute_input": "2021-12-11T12:30:34.383320Z",
     "iopub.status.busy": "2021-12-11T12:30:34.380908Z",
     "iopub.status.idle": "2021-12-11T12:30:35.647962Z",
     "shell.execute_reply": "2021-12-11T12:30:35.647161Z",
     "shell.execute_reply.started": "2021-12-11T11:54:19.916457Z"
    },
    "papermill": {
     "duration": 1.329976,
     "end_time": "2021-12-11T12:30:35.648092",
     "exception": false,
     "start_time": "2021-12-11T12:30:34.318116",
     "status": "completed"
    },
    "tags": []
   },
   "outputs": [],
   "source": [
    "#create padded sequences\n",
    "pad_train=pad_sequences(seq_train,truncating = 'post', padding = 'pre',maxlen=max_seq_len)\n",
    "pad_test=pad_sequences(seq_test,truncating = 'post', padding = 'pre',maxlen=max_seq_len)"
   ]
  },
  {
   "cell_type": "code",
   "execution_count": 29,
   "id": "c195431f",
   "metadata": {
    "execution": {
     "iopub.execute_input": "2021-12-11T12:30:35.765613Z",
     "iopub.status.busy": "2021-12-11T12:30:35.764543Z",
     "iopub.status.idle": "2021-12-11T12:30:35.787616Z",
     "shell.execute_reply": "2021-12-11T12:30:35.787109Z",
     "shell.execute_reply.started": "2021-12-11T11:54:21.434307Z"
    },
    "papermill": {
     "duration": 0.084506,
     "end_time": "2021-12-11T12:30:35.787771",
     "exception": false,
     "start_time": "2021-12-11T12:30:35.703265",
     "status": "completed"
    },
    "tags": []
   },
   "outputs": [],
   "source": [
    "#Splitting training set for validation purposes\n",
    "Xtrain,Xval,ytrain,yval=train_test_split(pad_train,ytrain,\n",
    "                                             test_size=0.2,random_state=10)"
   ]
  },
  {
   "cell_type": "code",
   "execution_count": 30,
   "id": "6fc7fe25",
   "metadata": {
    "execution": {
     "iopub.execute_input": "2021-12-11T12:30:35.909109Z",
     "iopub.status.busy": "2021-12-11T12:30:35.908276Z",
     "iopub.status.idle": "2021-12-11T12:30:35.910132Z",
     "shell.execute_reply": "2021-12-11T12:30:35.910605Z",
     "shell.execute_reply.started": "2021-12-11T11:54:21.461056Z"
    },
    "papermill": {
     "duration": 0.067538,
     "end_time": "2021-12-11T12:30:35.910748",
     "exception": false,
     "start_time": "2021-12-11T12:30:35.843210",
     "status": "completed"
    },
    "tags": []
   },
   "outputs": [],
   "source": [
    "def lstm_model(Xtrain,Xval,ytrain,yval,V,D,maxlen,epochs):\n",
    "\n",
    "    print(\"----Building the model----\")\n",
    "    i = Input(shape=(maxlen,))\n",
    "    x = Embedding(V + 1, D,input_length = maxlen)(i)\n",
    "    x = BatchNormalization()(x)\n",
    "    x = Dropout(0.3)(x)\n",
    "    x = Conv1D(32,5,activation = 'relu')(x)\n",
    "    x = Dropout(0.3)(x)\n",
    "    x = MaxPooling1D(2)(x)\n",
    "    x = Bidirectional(LSTM(128,return_sequences=True))(x)\n",
    "    x = LSTM(64)(x)\n",
    "    x = Dropout(0.5)(x)\n",
    "    x = Dense(1, activation='sigmoid')(x)\n",
    "    model = Model(i, x)\n",
    "    model.summary()\n",
    "\n",
    "    #Training the LSTM\n",
    "    print(\"----Training the network----\")\n",
    "    model.compile(optimizer= Adam(0.0005),\n",
    "              loss='binary_crossentropy',\n",
    "              metrics=['accuracy'])\n",
    "\n",
    "    r = model.fit(Xtrain,ytrain, \n",
    "                  validation_data = (Xval,yval), \n",
    "                  epochs = epochs, \n",
    "                  verbose = 2,\n",
    "                  batch_size = 32)\n",
    "                  #callbacks = callbacks\n",
    "    print(\"Train score:\", model.evaluate(Xtrain,ytrain))\n",
    "    print(\"Validation score:\", model.evaluate(Xval,yval))\n",
    "    n_epochs = len(r.history['loss'])\n",
    "    \n",
    "    return r,model,n_epochs "
   ]
  },
  {
   "cell_type": "code",
   "execution_count": 31,
   "id": "0a33e706",
   "metadata": {
    "execution": {
     "iopub.execute_input": "2021-12-11T12:30:36.026842Z",
     "iopub.status.busy": "2021-12-11T12:30:36.026264Z",
     "iopub.status.idle": "2021-12-11T12:33:11.777280Z",
     "shell.execute_reply": "2021-12-11T12:33:11.777745Z",
     "shell.execute_reply.started": "2021-12-11T11:54:21.473156Z"
    },
    "papermill": {
     "duration": 155.811891,
     "end_time": "2021-12-11T12:33:11.777909",
     "exception": false,
     "start_time": "2021-12-11T12:30:35.966018",
     "status": "completed"
    },
    "tags": []
   },
   "outputs": [
    {
     "name": "stdout",
     "output_type": "stream",
     "text": [
      "----Building the model----\n"
     ]
    },
    {
     "name": "stderr",
     "output_type": "stream",
     "text": [
      "2021-12-11 12:30:36.113461: I tensorflow/stream_executor/cuda/cuda_gpu_executor.cc:937] successful NUMA node read from SysFS had negative value (-1), but there must be at least one NUMA node, so returning NUMA node zero\n",
      "2021-12-11 12:30:36.244517: I tensorflow/stream_executor/cuda/cuda_gpu_executor.cc:937] successful NUMA node read from SysFS had negative value (-1), but there must be at least one NUMA node, so returning NUMA node zero\n",
      "2021-12-11 12:30:36.245221: I tensorflow/stream_executor/cuda/cuda_gpu_executor.cc:937] successful NUMA node read from SysFS had negative value (-1), but there must be at least one NUMA node, so returning NUMA node zero\n",
      "2021-12-11 12:30:36.247175: I tensorflow/core/platform/cpu_feature_guard.cc:142] This TensorFlow binary is optimized with oneAPI Deep Neural Network Library (oneDNN) to use the following CPU instructions in performance-critical operations:  AVX2 AVX512F FMA\n",
      "To enable them in other operations, rebuild TensorFlow with the appropriate compiler flags.\n",
      "2021-12-11 12:30:36.248892: I tensorflow/stream_executor/cuda/cuda_gpu_executor.cc:937] successful NUMA node read from SysFS had negative value (-1), but there must be at least one NUMA node, so returning NUMA node zero\n",
      "2021-12-11 12:30:36.250023: I tensorflow/stream_executor/cuda/cuda_gpu_executor.cc:937] successful NUMA node read from SysFS had negative value (-1), but there must be at least one NUMA node, so returning NUMA node zero\n",
      "2021-12-11 12:30:36.250916: I tensorflow/stream_executor/cuda/cuda_gpu_executor.cc:937] successful NUMA node read from SysFS had negative value (-1), but there must be at least one NUMA node, so returning NUMA node zero\n",
      "2021-12-11 12:30:38.552956: I tensorflow/stream_executor/cuda/cuda_gpu_executor.cc:937] successful NUMA node read from SysFS had negative value (-1), but there must be at least one NUMA node, so returning NUMA node zero\n",
      "2021-12-11 12:30:38.553819: I tensorflow/stream_executor/cuda/cuda_gpu_executor.cc:937] successful NUMA node read from SysFS had negative value (-1), but there must be at least one NUMA node, so returning NUMA node zero\n",
      "2021-12-11 12:30:38.554502: I tensorflow/stream_executor/cuda/cuda_gpu_executor.cc:937] successful NUMA node read from SysFS had negative value (-1), but there must be at least one NUMA node, so returning NUMA node zero\n",
      "2021-12-11 12:30:38.555083: I tensorflow/core/common_runtime/gpu/gpu_device.cc:1510] Created device /job:localhost/replica:0/task:0/device:GPU:0 with 15403 MB memory:  -> device: 0, name: Tesla P100-PCIE-16GB, pci bus id: 0000:00:04.0, compute capability: 6.0\n"
     ]
    },
    {
     "name": "stdout",
     "output_type": "stream",
     "text": [
      "Model: \"model\"\n",
      "_________________________________________________________________\n",
      "Layer (type)                 Output Shape              Param #   \n",
      "=================================================================\n",
      "input_1 (InputLayer)         [(None, 293)]             0         \n",
      "_________________________________________________________________\n",
      "embedding (Embedding)        (None, 293, 64)           8070208   \n",
      "_________________________________________________________________\n",
      "batch_normalization (BatchNo (None, 293, 64)           256       \n",
      "_________________________________________________________________\n",
      "dropout (Dropout)            (None, 293, 64)           0         \n",
      "_________________________________________________________________\n",
      "conv1d (Conv1D)              (None, 289, 32)           10272     \n",
      "_________________________________________________________________\n",
      "dropout_1 (Dropout)          (None, 289, 32)           0         \n",
      "_________________________________________________________________\n",
      "max_pooling1d (MaxPooling1D) (None, 144, 32)           0         \n",
      "_________________________________________________________________\n",
      "bidirectional (Bidirectional (None, 144, 256)          164864    \n",
      "_________________________________________________________________\n",
      "lstm_1 (LSTM)                (None, 64)                82176     \n",
      "_________________________________________________________________\n",
      "dropout_2 (Dropout)          (None, 64)                0         \n",
      "_________________________________________________________________\n",
      "dense (Dense)                (None, 1)                 65        \n",
      "=================================================================\n",
      "Total params: 8,327,841\n",
      "Trainable params: 8,327,713\n",
      "Non-trainable params: 128\n",
      "_________________________________________________________________\n",
      "----Training the network----\n",
      "Epoch 1/5\n"
     ]
    },
    {
     "name": "stderr",
     "output_type": "stream",
     "text": [
      "2021-12-11 12:30:39.662167: I tensorflow/compiler/mlir/mlir_graph_optimization_pass.cc:185] None of the MLIR Optimization Passes are enabled (registered 2)\n",
      "2021-12-11 12:30:44.411697: I tensorflow/stream_executor/cuda/cuda_dnn.cc:369] Loaded cuDNN version 8005\n"
     ]
    },
    {
     "name": "stdout",
     "output_type": "stream",
     "text": [
      "992/992 - 38s - loss: 0.4254 - accuracy: 0.7934 - val_loss: 0.2836 - val_accuracy: 0.8881\n",
      "Epoch 2/5\n",
      "992/992 - 25s - loss: 0.2469 - accuracy: 0.9017 - val_loss: 0.2798 - val_accuracy: 0.8925\n",
      "Epoch 3/5\n",
      "992/992 - 25s - loss: 0.1952 - accuracy: 0.9261 - val_loss: 0.2882 - val_accuracy: 0.8910\n",
      "Epoch 4/5\n",
      "992/992 - 25s - loss: 0.1497 - accuracy: 0.9465 - val_loss: 0.3353 - val_accuracy: 0.8834\n",
      "Epoch 5/5\n",
      "992/992 - 26s - loss: 0.1110 - accuracy: 0.9598 - val_loss: 0.3840 - val_accuracy: 0.8858\n",
      "992/992 [==============================] - 9s 9ms/step - loss: 0.0398 - accuracy: 0.9887\n",
      "Train score: [0.03976896405220032, 0.9886865019798279]\n",
      "248/248 [==============================] - 2s 9ms/step - loss: 0.3840 - accuracy: 0.8858\n",
      "Validation score: [0.38402771949768066, 0.8857935070991516]\n"
     ]
    }
   ],
   "source": [
    "D = 64 #embedding dims\n",
    "epochs = 5\n",
    "r,model,n_epochs = lstm_model(Xtrain,Xval,ytrain,yval,V,D,max_seq_len,epochs)"
   ]
  },
  {
   "cell_type": "code",
   "execution_count": 32,
   "id": "af8e8815",
   "metadata": {
    "execution": {
     "iopub.execute_input": "2021-12-11T12:33:12.017415Z",
     "iopub.status.busy": "2021-12-11T12:33:12.015682Z",
     "iopub.status.idle": "2021-12-11T12:33:12.018016Z",
     "shell.execute_reply": "2021-12-11T12:33:12.018408Z",
     "shell.execute_reply.started": "2021-12-11T11:58:59.278202Z"
    },
    "papermill": {
     "duration": 0.126013,
     "end_time": "2021-12-11T12:33:12.018586",
     "exception": false,
     "start_time": "2021-12-11T12:33:11.892573",
     "status": "completed"
    },
    "tags": []
   },
   "outputs": [],
   "source": [
    "def plotLearningCurve(history,epochs):\n",
    "    \n",
    "    epochRange = range(1,epochs+1)\n",
    "    fig , ax = plt.subplots(1,2,figsize = (10,5))\n",
    "  \n",
    "    ax[0].plot(epochRange,history.history['accuracy'],label = 'Training Accuracy')\n",
    "    ax[0].plot(epochRange,history.history['val_accuracy'],label = 'Validation Accuracy')\n",
    "    ax[0].set_title('Training and Validation accuracy')\n",
    "    ax[0].set_xlabel('Epoch')\n",
    "    ax[0].set_ylabel('Accuracy')\n",
    "    ax[0].legend()\n",
    "    ax[1].plot(epochRange,history.history['loss'],label = 'Training Loss')\n",
    "    ax[1].plot(epochRange,history.history['val_loss'],label = 'Validation Loss')\n",
    "    ax[1].set_title('Training and Validation loss')\n",
    "    ax[1].set_xlabel('Epoch')\n",
    "    ax[1].set_ylabel('Loss')\n",
    "    ax[1].legend()\n",
    "    fig.tight_layout()\n",
    "    plt.show()"
   ]
  },
  {
   "cell_type": "code",
   "execution_count": 33,
   "id": "a4c8e71b",
   "metadata": {
    "execution": {
     "iopub.execute_input": "2021-12-11T12:33:12.273415Z",
     "iopub.status.busy": "2021-12-11T12:33:12.272797Z",
     "iopub.status.idle": "2021-12-11T12:33:12.725284Z",
     "shell.execute_reply": "2021-12-11T12:33:12.725721Z",
     "shell.execute_reply.started": "2021-12-11T11:58:59.289495Z"
    },
    "papermill": {
     "duration": 0.585813,
     "end_time": "2021-12-11T12:33:12.725876",
     "exception": false,
     "start_time": "2021-12-11T12:33:12.140063",
     "status": "completed"
    },
    "tags": []
   },
   "outputs": [
    {
     "data": {
      "image/png": "[encoded data removed]",
      "text/plain": [
       "<Figure size 720x360 with 2 Axes>"
      ]
     },
     "metadata": {
      "needs_background": "light"
     },
     "output_type": "display_data"
    }
   ],
   "source": [
    "plotLearningCurve(r,n_epochs)"
   ]
  },
  {
   "cell_type": "code",
   "execution_count": 34,
   "id": "7be48dcb",
   "metadata": {
    "execution": {
     "iopub.execute_input": "2021-12-11T12:33:12.965063Z",
     "iopub.status.busy": "2021-12-11T12:33:12.964242Z",
     "iopub.status.idle": "2021-12-11T12:33:15.880852Z",
     "shell.execute_reply": "2021-12-11T12:33:15.881437Z",
     "shell.execute_reply.started": "2021-12-11T11:58:59.745873Z"
    },
    "papermill": {
     "duration": 3.038193,
     "end_time": "2021-12-11T12:33:15.881654",
     "exception": false,
     "start_time": "2021-12-11T12:33:12.843461",
     "status": "completed"
    },
    "tags": []
   },
   "outputs": [
    {
     "name": "stdout",
     "output_type": "stream",
     "text": [
      "Evaluate Model Performance on Test set\n",
      "310/310 [==============================] - 3s 9ms/step - loss: 0.4140 - accuracy: 0.8783\n",
      "{'loss': 0.4140194058418274, 'accuracy': 0.8782898187637329}\n"
     ]
    }
   ],
   "source": [
    "print(\"Evaluate Model Performance on Test set\")\n",
    "result = model.evaluate(pad_test,ytest)\n",
    "print(dict(zip(model.metrics_names, result)))"
   ]
  },
  {
   "cell_type": "code",
   "execution_count": 35,
   "id": "b340a18d",
   "metadata": {
    "execution": {
     "iopub.execute_input": "2021-12-11T12:33:16.370528Z",
     "iopub.status.busy": "2021-12-11T12:33:16.369704Z",
     "iopub.status.idle": "2021-12-11T12:33:19.839682Z",
     "shell.execute_reply": "2021-12-11T12:33:19.840164Z",
     "shell.execute_reply.started": "2021-12-11T11:59:02.674010Z"
    },
    "papermill": {
     "duration": 3.703916,
     "end_time": "2021-12-11T12:33:19.840330",
     "exception": false,
     "start_time": "2021-12-11T12:33:16.136414",
     "status": "completed"
    },
    "tags": []
   },
   "outputs": [
    {
     "data": {
      "image/png": "[encoded data removed]",
      "text/plain": [
       "<Figure size 432x288 with 2 Axes>"
      ]
     },
     "metadata": {
      "needs_background": "light"
     },
     "output_type": "display_data"
    }
   ],
   "source": [
    "#Generate predictions for the test dataset\n",
    "ypred = model.predict(pad_test)\n",
    "ypred = ypred>0.5\n",
    "#Get the confusion matrix\n",
    "cf_matrix = confusion_matrix(ytest, ypred)\n",
    "sns.heatmap(cf_matrix,annot = True,fmt ='g', cmap='Blues')\n",
    "plt.xlabel('Predicted label')\n",
    "plt.ylabel('True label')\n",
    "plt.show()"
   ]
  },
  {
   "cell_type": "markdown",
   "id": "5bce55b0",
   "metadata": {
    "papermill": {
     "duration": 0.12826,
     "end_time": "2021-12-11T12:33:20.098818",
     "exception": false,
     "start_time": "2021-12-11T12:33:19.970558",
     "status": "completed"
    },
    "tags": []
   },
   "source": [
    "# 2-CNN model"
   ]
  },
  {
   "cell_type": "code",
   "execution_count": 36,
   "id": "0a5665f3",
   "metadata": {
    "execution": {
     "iopub.execute_input": "2021-12-11T12:33:20.361931Z",
     "iopub.status.busy": "2021-12-11T12:33:20.361210Z",
     "iopub.status.idle": "2021-12-11T12:33:20.363354Z",
     "shell.execute_reply": "2021-12-11T12:33:20.363789Z",
     "shell.execute_reply.started": "2021-12-11T11:59:06.467056Z"
    },
    "papermill": {
     "duration": 0.136921,
     "end_time": "2021-12-11T12:33:20.363935",
     "exception": false,
     "start_time": "2021-12-11T12:33:20.227014",
     "status": "completed"
    },
    "tags": []
   },
   "outputs": [],
   "source": [
    "from sklearn.metrics import classification_report, confusion_matrix, roc_curve, roc_auc_score,auc, accuracy_score\n",
    "\n",
    "from sklearn.preprocessing import StandardScaler, MinMaxScaler\n",
    "\n",
    "from sklearn.linear_model import LogisticRegression\n",
    "\n",
    "from sklearn.model_selection import train_test_split\n",
    "\n",
    "from sklearn import datasets\n",
    "\n",
    "from tensorflow.keras.preprocessing import sequence\n",
    "from sklearn.datasets import fetch_20newsgroups\n",
    "from tensorflow.keras.preprocessing.text import Tokenizer\n",
    "from tensorflow.keras.models import Sequential, Model\n",
    "from tensorflow.keras.layers import Input, Dense, Embedding, Conv1D, MaxPool1D, Dropout, SimpleRNN, LSTM\n",
    "from tensorflow.keras.layers import Flatten\n",
    "from tensorflow.keras.preprocessing import sequence\n",
    "import numpy as np\n",
    "import string\n",
    "import re"
   ]
  },
  {
   "cell_type": "code",
   "execution_count": 37,
   "id": "512f3b67",
   "metadata": {
    "execution": {
     "iopub.execute_input": "2021-12-11T12:33:20.632545Z",
     "iopub.status.busy": "2021-12-11T12:33:20.631852Z",
     "iopub.status.idle": "2021-12-11T12:33:20.639990Z",
     "shell.execute_reply": "2021-12-11T12:33:20.639552Z",
     "shell.execute_reply.started": "2021-12-11T11:59:06.485176Z"
    },
    "papermill": {
     "duration": 0.146757,
     "end_time": "2021-12-11T12:33:20.640095",
     "exception": false,
     "start_time": "2021-12-11T12:33:20.493338",
     "status": "completed"
    },
    "tags": []
   },
   "outputs": [],
   "source": [
    "df.sentiment = df.sentiment.map({ 'negative': 0, 'positive': 1 })\n",
    "\n",
    "text = df.review.tolist()\n",
    "label = df.sentiment.tolist()"
   ]
  },
  {
   "cell_type": "code",
   "execution_count": 38,
   "id": "87b057a2",
   "metadata": {
    "execution": {
     "iopub.execute_input": "2021-12-11T12:33:20.902432Z",
     "iopub.status.busy": "2021-12-11T12:33:20.901733Z",
     "iopub.status.idle": "2021-12-11T12:33:20.932715Z",
     "shell.execute_reply": "2021-12-11T12:33:20.932257Z",
     "shell.execute_reply.started": "2021-12-11T11:59:06.533240Z"
    },
    "papermill": {
     "duration": 0.164302,
     "end_time": "2021-12-11T12:33:20.932828",
     "exception": false,
     "start_time": "2021-12-11T12:33:20.768526",
     "status": "completed"
    },
    "tags": []
   },
   "outputs": [],
   "source": [
    "X_train, X_test, y_train, y_test = train_test_split(text, label, test_size=0.2, random_state=1)"
   ]
  },
  {
   "cell_type": "code",
   "execution_count": 39,
   "id": "81222472",
   "metadata": {
    "execution": {
     "iopub.execute_input": "2021-12-11T12:33:21.195258Z",
     "iopub.status.busy": "2021-12-11T12:33:21.194434Z",
     "iopub.status.idle": "2021-12-11T12:33:21.196964Z",
     "shell.execute_reply": "2021-12-11T12:33:21.196527Z",
     "shell.execute_reply.started": "2021-12-11T11:59:06.608527Z"
    },
    "papermill": {
     "duration": 0.13429,
     "end_time": "2021-12-11T12:33:21.197070",
     "exception": false,
     "start_time": "2021-12-11T12:33:21.062780",
     "status": "completed"
    },
    "tags": []
   },
   "outputs": [],
   "source": [
    "translator = str.maketrans(string.punctuation, ' '*len(string.punctuation)) #map punctuation to space"
   ]
  },
  {
   "cell_type": "code",
   "execution_count": 40,
   "id": "678ec439",
   "metadata": {
    "execution": {
     "iopub.execute_input": "2021-12-11T12:33:21.490870Z",
     "iopub.status.busy": "2021-12-11T12:33:21.475407Z",
     "iopub.status.idle": "2021-12-11T12:33:24.225145Z",
     "shell.execute_reply": "2021-12-11T12:33:24.224652Z",
     "shell.execute_reply.started": "2021-12-11T11:59:06.621881Z"
    },
    "papermill": {
     "duration": 2.900572,
     "end_time": "2021-12-11T12:33:24.225289",
     "exception": false,
     "start_time": "2021-12-11T12:33:21.324717",
     "status": "completed"
    },
    "tags": []
   },
   "outputs": [],
   "source": [
    "X_train_clean = []\n",
    "X_test_clean = []\n",
    "clean = re.compile(r'<[^>]+>')\n",
    "for i, test in enumerate(X_train):\n",
    "    tmp_text = test.lower()\n",
    "    tmp_text = tmp_text.replace('\\n', '')\n",
    "    tmp_text = clean.sub('', tmp_text)\n",
    "    tmp_text = tmp_text.translate(translator)\n",
    "    X_train_clean.append(tmp_text)\n",
    "\n",
    "for i, test in enumerate(X_test):\n",
    "    tmp_text = test.lower()\n",
    "    tmp_text = tmp_text.replace('\\n', '')\n",
    "    tmp_text = clean.sub('', tmp_text)\n",
    "    tmp_text = tmp_text.translate(translator)\n",
    "    X_test_clean.append(tmp_text)\n",
    "\n",
    "X_train_clean = np.array(X_train_clean)\n",
    "X_test_clean = np.array(X_test_clean)\n",
    "\n",
    "X_train = X_train_clean\n",
    "X_test = X_test_clean"
   ]
  },
  {
   "cell_type": "code",
   "execution_count": 41,
   "id": "521cdc62",
   "metadata": {
    "execution": {
     "iopub.execute_input": "2021-12-11T12:33:24.562337Z",
     "iopub.status.busy": "2021-12-11T12:33:24.526436Z",
     "iopub.status.idle": "2021-12-11T12:33:43.071529Z",
     "shell.execute_reply": "2021-12-11T12:33:43.071012Z",
     "shell.execute_reply.started": "2021-12-11T11:59:09.696343Z"
    },
    "papermill": {
     "duration": 18.716008,
     "end_time": "2021-12-11T12:33:43.071676",
     "exception": false,
     "start_time": "2021-12-11T12:33:24.355668",
     "status": "completed"
    },
    "tags": []
   },
   "outputs": [],
   "source": [
    "top_words = 40000\n",
    "tokenizer = Tokenizer(num_words=top_words)\n",
    "tokenizer.fit_on_texts(X_train)\n",
    "X_train = tokenizer.texts_to_sequences(X_train)\n",
    "X_test = tokenizer.texts_to_sequences(X_test)"
   ]
  },
  {
   "cell_type": "code",
   "execution_count": 42,
   "id": "1223684b",
   "metadata": {
    "execution": {
     "iopub.execute_input": "2021-12-11T12:33:43.340663Z",
     "iopub.status.busy": "2021-12-11T12:33:43.339532Z",
     "iopub.status.idle": "2021-12-11T12:33:44.485621Z",
     "shell.execute_reply": "2021-12-11T12:33:44.484727Z",
     "shell.execute_reply.started": "2021-12-11T11:59:29.362659Z"
    },
    "papermill": {
     "duration": 1.284519,
     "end_time": "2021-12-11T12:33:44.485769",
     "exception": false,
     "start_time": "2021-12-11T12:33:43.201250",
     "status": "completed"
    },
    "tags": []
   },
   "outputs": [],
   "source": [
    "max_words = 100\n",
    "X_train = sequence.pad_sequences(X_train, maxlen=max_words, padding='post')\n",
    "X_test = sequence.pad_sequences(X_test, maxlen=max_words, padding='post')"
   ]
  },
  {
   "cell_type": "code",
   "execution_count": 43,
   "id": "6fbd7a08",
   "metadata": {
    "execution": {
     "iopub.execute_input": "2021-12-11T12:33:44.759853Z",
     "iopub.status.busy": "2021-12-11T12:33:44.758976Z",
     "iopub.status.idle": "2021-12-11T12:33:44.760936Z",
     "shell.execute_reply": "2021-12-11T12:33:44.761305Z",
     "shell.execute_reply.started": "2021-12-11T11:59:30.694198Z"
    },
    "papermill": {
     "duration": 0.146096,
     "end_time": "2021-12-11T12:33:44.761466",
     "exception": false,
     "start_time": "2021-12-11T12:33:44.615370",
     "status": "completed"
    },
    "tags": []
   },
   "outputs": [],
   "source": [
    "y_train = np.array(y_train)\n",
    "y_test = np.array(y_test)"
   ]
  },
  {
   "cell_type": "code",
   "execution_count": 44,
   "id": "26e3778d",
   "metadata": {
    "execution": {
     "iopub.execute_input": "2021-12-11T12:33:45.050874Z",
     "iopub.status.busy": "2021-12-11T12:33:45.049977Z",
     "iopub.status.idle": "2021-12-11T12:33:45.053261Z",
     "shell.execute_reply": "2021-12-11T12:33:45.053864Z",
     "shell.execute_reply.started": "2021-12-11T11:59:30.710376Z"
    },
    "papermill": {
     "duration": 0.156387,
     "end_time": "2021-12-11T12:33:45.054019",
     "exception": false,
     "start_time": "2021-12-11T12:33:44.897632",
     "status": "completed"
    },
    "tags": []
   },
   "outputs": [
    {
     "data": {
      "text/plain": [
       "(40000, 100)"
      ]
     },
     "execution_count": 44,
     "metadata": {},
     "output_type": "execute_result"
    }
   ],
   "source": [
    "X_train.shape\n"
   ]
  },
  {
   "cell_type": "code",
   "execution_count": 45,
   "id": "43fe32b4",
   "metadata": {
    "execution": {
     "iopub.execute_input": "2021-12-11T12:33:45.331400Z",
     "iopub.status.busy": "2021-12-11T12:33:45.330401Z",
     "iopub.status.idle": "2021-12-11T12:33:45.396198Z",
     "shell.execute_reply": "2021-12-11T12:33:45.395341Z",
     "shell.execute_reply.started": "2021-12-11T11:59:30.724122Z"
    },
    "papermill": {
     "duration": 0.204975,
     "end_time": "2021-12-11T12:33:45.396325",
     "exception": false,
     "start_time": "2021-12-11T12:33:45.191350",
     "status": "completed"
    },
    "tags": []
   },
   "outputs": [],
   "source": [
    "model = Sequential()\n",
    "model.add(Embedding(20000,32, input_length=100))\n",
    "model.add(Conv1D(256, 3, activation='relu', padding='same'))\n",
    "model.add(MaxPool1D(2))\n",
    "model.add(Dropout(0.2))\n",
    "model.add(Conv1D(128, 3, activation='relu', padding='same'))\n",
    "model.add(MaxPool1D(2))\n",
    "model.add(Dropout(0.2))\n",
    "model.add(Flatten())\n",
    "model.add(Dense(250, activation='relu'))\n",
    "\n",
    "model.add(Dense(1, activation='sigmoid'))\n",
    "model.compile(loss='binary_crossentropy', optimizer='adam', metrics=['accuracy'])"
   ]
  },
  {
   "cell_type": "code",
   "execution_count": 46,
   "id": "cf4b3ba2",
   "metadata": {
    "execution": {
     "iopub.execute_input": "2021-12-11T12:33:45.659298Z",
     "iopub.status.busy": "2021-12-11T12:33:45.658487Z",
     "iopub.status.idle": "2021-12-11T12:33:45.666371Z",
     "shell.execute_reply": "2021-12-11T12:33:45.666872Z",
     "shell.execute_reply.started": "2021-12-11T11:59:30.796368Z"
    },
    "papermill": {
     "duration": 0.141339,
     "end_time": "2021-12-11T12:33:45.667024",
     "exception": false,
     "start_time": "2021-12-11T12:33:45.525685",
     "status": "completed"
    },
    "tags": []
   },
   "outputs": [
    {
     "name": "stdout",
     "output_type": "stream",
     "text": [
      "Model: \"sequential\"\n",
      "_________________________________________________________________\n",
      "Layer (type)                 Output Shape              Param #   \n",
      "=================================================================\n",
      "embedding_1 (Embedding)      (None, 100, 32)           640000    \n",
      "_________________________________________________________________\n",
      "conv1d_1 (Conv1D)            (None, 100, 256)          24832     \n",
      "_________________________________________________________________\n",
      "max_pooling1d_1 (MaxPooling1 (None, 50, 256)           0         \n",
      "_________________________________________________________________\n",
      "dropout_3 (Dropout)          (None, 50, 256)           0         \n",
      "_________________________________________________________________\n",
      "conv1d_2 (Conv1D)            (None, 50, 128)           98432     \n",
      "_________________________________________________________________\n",
      "max_pooling1d_2 (MaxPooling1 (None, 25, 128)           0         \n",
      "_________________________________________________________________\n",
      "dropout_4 (Dropout)          (None, 25, 128)           0         \n",
      "_________________________________________________________________\n",
      "flatten (Flatten)            (None, 3200)              0         \n",
      "_________________________________________________________________\n",
      "dense_1 (Dense)              (None, 250)               800250    \n",
      "_________________________________________________________________\n",
      "dense_2 (Dense)              (None, 1)                 251       \n",
      "=================================================================\n",
      "Total params: 1,563,765\n",
      "Trainable params: 1,563,765\n",
      "Non-trainable params: 0\n",
      "_________________________________________________________________\n"
     ]
    }
   ],
   "source": [
    "model.summary()\n"
   ]
  },
  {
   "cell_type": "code",
   "execution_count": 47,
   "id": "d71dec8a",
   "metadata": {
    "execution": {
     "iopub.execute_input": "2021-12-11T12:33:45.938202Z",
     "iopub.status.busy": "2021-12-11T12:33:45.937612Z",
     "iopub.status.idle": "2021-12-11T12:34:27.482007Z",
     "shell.execute_reply": "2021-12-11T12:34:27.481542Z",
     "shell.execute_reply.started": "2021-12-11T11:59:30.808748Z"
    },
    "papermill": {
     "duration": 41.67989,
     "end_time": "2021-12-11T12:34:27.482152",
     "exception": false,
     "start_time": "2021-12-11T12:33:45.802262",
     "status": "completed"
    },
    "tags": []
   },
   "outputs": [
    {
     "name": "stdout",
     "output_type": "stream",
     "text": [
      "Epoch 1/20\n",
      "313/313 - 3s - loss: 0.4584 - accuracy: 0.7419 - val_loss: 0.2950 - val_accuracy: 0.8756\n",
      "Epoch 2/20\n",
      "313/313 - 2s - loss: 0.2383 - accuracy: 0.9036 - val_loss: 0.2883 - val_accuracy: 0.8790\n",
      "Epoch 3/20\n",
      "313/313 - 2s - loss: 0.1585 - accuracy: 0.9403 - val_loss: 0.3281 - val_accuracy: 0.8712\n",
      "Epoch 4/20\n",
      "313/313 - 2s - loss: 0.0952 - accuracy: 0.9664 - val_loss: 0.3866 - val_accuracy: 0.8669\n",
      "Epoch 5/20\n",
      "313/313 - 2s - loss: 0.0579 - accuracy: 0.9799 - val_loss: 0.5340 - val_accuracy: 0.8638\n",
      "Epoch 6/20\n",
      "313/313 - 2s - loss: 0.0358 - accuracy: 0.9874 - val_loss: 0.6599 - val_accuracy: 0.8565\n",
      "Epoch 7/20\n",
      "313/313 - 2s - loss: 0.0270 - accuracy: 0.9903 - val_loss: 0.6674 - val_accuracy: 0.8554\n",
      "Epoch 8/20\n",
      "313/313 - 2s - loss: 0.0216 - accuracy: 0.9923 - val_loss: 0.8906 - val_accuracy: 0.8489\n",
      "Epoch 9/20\n",
      "313/313 - 2s - loss: 0.0168 - accuracy: 0.9941 - val_loss: 0.8887 - val_accuracy: 0.8514\n",
      "Epoch 10/20\n",
      "313/313 - 2s - loss: 0.0162 - accuracy: 0.9945 - val_loss: 0.9318 - val_accuracy: 0.8514\n",
      "Epoch 11/20\n",
      "313/313 - 2s - loss: 0.0104 - accuracy: 0.9966 - val_loss: 1.0317 - val_accuracy: 0.8492\n",
      "Epoch 12/20\n",
      "313/313 - 2s - loss: 0.0090 - accuracy: 0.9970 - val_loss: 0.9948 - val_accuracy: 0.8481\n",
      "Epoch 13/20\n",
      "313/313 - 2s - loss: 0.0118 - accuracy: 0.9956 - val_loss: 1.0380 - val_accuracy: 0.8529\n",
      "Epoch 14/20\n",
      "313/313 - 2s - loss: 0.0083 - accuracy: 0.9970 - val_loss: 1.0459 - val_accuracy: 0.8536\n",
      "Epoch 15/20\n",
      "313/313 - 2s - loss: 0.0063 - accuracy: 0.9980 - val_loss: 1.1877 - val_accuracy: 0.8528\n",
      "Epoch 16/20\n",
      "313/313 - 2s - loss: 0.0075 - accuracy: 0.9975 - val_loss: 1.3604 - val_accuracy: 0.8417\n",
      "Epoch 17/20\n",
      "313/313 - 2s - loss: 0.0085 - accuracy: 0.9969 - val_loss: 1.2393 - val_accuracy: 0.8512\n",
      "Epoch 18/20\n",
      "313/313 - 2s - loss: 0.0076 - accuracy: 0.9974 - val_loss: 1.2167 - val_accuracy: 0.8480\n",
      "Epoch 19/20\n",
      "313/313 - 2s - loss: 0.0112 - accuracy: 0.9962 - val_loss: 1.0562 - val_accuracy: 0.8534\n",
      "Epoch 20/20\n",
      "313/313 - 2s - loss: 0.0042 - accuracy: 0.9987 - val_loss: 1.2129 - val_accuracy: 0.8506\n"
     ]
    },
    {
     "data": {
      "text/plain": [
       "<keras.callbacks.History at 0x7fc4ac4590d0>"
      ]
     },
     "execution_count": 47,
     "metadata": {},
     "output_type": "execute_result"
    }
   ],
   "source": [
    "model.fit(X_train, y_train, validation_data=(X_test,y_test), epochs=20, batch_size=128, verbose=2)"
   ]
  },
  {
   "cell_type": "code",
   "execution_count": 48,
   "id": "d00a2c49",
   "metadata": {
    "execution": {
     "iopub.execute_input": "2021-12-11T12:34:27.769560Z",
     "iopub.status.busy": "2021-12-11T12:34:27.768645Z",
     "iopub.status.idle": "2021-12-11T12:34:29.072545Z",
     "shell.execute_reply": "2021-12-11T12:34:29.073084Z",
     "shell.execute_reply.started": "2021-12-11T12:00:09.033447Z"
    },
    "papermill": {
     "duration": 1.449866,
     "end_time": "2021-12-11T12:34:29.073252",
     "exception": false,
     "start_time": "2021-12-11T12:34:27.623386",
     "status": "completed"
    },
    "tags": []
   },
   "outputs": [
    {
     "name": "stdout",
     "output_type": "stream",
     "text": [
      "Evaluate Model Performance on Test set\n",
      "313/313 [==============================] - 1s 2ms/step - loss: 1.2129 - accuracy: 0.8506\n",
      "{'loss': 1.2128911018371582, 'accuracy': 0.850600004196167}\n"
     ]
    }
   ],
   "source": [
    "print(\"Evaluate Model Performance on Test set\")\n",
    "result = model.evaluate(X_test,y_test)\n",
    "print(dict(zip(model.metrics_names, result)))"
   ]
  },
  {
   "cell_type": "markdown",
   "id": "ec76ad15",
   "metadata": {
    "papermill": {
     "duration": 0.14395,
     "end_time": "2021-12-11T12:34:29.364777",
     "exception": false,
     "start_time": "2021-12-11T12:34:29.220827",
     "status": "completed"
    },
    "tags": []
   },
   "source": [
    "# 3- LSTM-CNN Model"
   ]
  },
  {
   "cell_type": "code",
   "execution_count": 49,
   "id": "ef5869cb",
   "metadata": {
    "execution": {
     "iopub.execute_input": "2021-12-11T12:34:29.659194Z",
     "iopub.status.busy": "2021-12-11T12:34:29.654331Z",
     "iopub.status.idle": "2021-12-11T12:34:30.121888Z",
     "shell.execute_reply": "2021-12-11T12:34:30.121026Z",
     "shell.execute_reply.started": "2021-12-11T12:00:09.783993Z"
    },
    "papermill": {
     "duration": 0.614464,
     "end_time": "2021-12-11T12:34:30.122025",
     "exception": false,
     "start_time": "2021-12-11T12:34:29.507561",
     "status": "completed"
    },
    "tags": []
   },
   "outputs": [],
   "source": [
    "model = Sequential()\n",
    "model.add(Embedding(20000,32, input_length=100))\n",
    "model.add(Conv1D(256, 3, activation='relu', input_shape=(178, 1), padding='same'))\n",
    "model.add(MaxPool1D(2))\n",
    "model.add(Dropout(0.2))\n",
    "model.add(Conv1D(128, 3, activation='relu', padding='same'))\n",
    "model.add(MaxPool1D(2))\n",
    "model.add(Dropout(0.2))\n",
    "model.add(LSTM(64, return_sequences=True))\n",
    "model.add(LSTM(32))\n",
    "model.add(Flatten())\n",
    "model.add(Dense(250, activation='relu'))\n",
    "model.add(Dropout(0.2))\n",
    "model.add(Dense(1, activation='sigmoid'))\n",
    "model.compile(loss='binary_crossentropy', optimizer='adam', metrics=['accuracy'])"
   ]
  },
  {
   "cell_type": "code",
   "execution_count": 50,
   "id": "d6995f94",
   "metadata": {
    "execution": {
     "iopub.execute_input": "2021-12-11T12:34:30.421664Z",
     "iopub.status.busy": "2021-12-11T12:34:30.419674Z",
     "iopub.status.idle": "2021-12-11T12:34:30.428523Z",
     "shell.execute_reply": "2021-12-11T12:34:30.427927Z",
     "shell.execute_reply.started": "2021-12-11T12:00:10.259217Z"
    },
    "papermill": {
     "duration": 0.158893,
     "end_time": "2021-12-11T12:34:30.428677",
     "exception": false,
     "start_time": "2021-12-11T12:34:30.269784",
     "status": "completed"
    },
    "tags": []
   },
   "outputs": [
    {
     "name": "stdout",
     "output_type": "stream",
     "text": [
      "Model: \"sequential_1\"\n",
      "_________________________________________________________________\n",
      "Layer (type)                 Output Shape              Param #   \n",
      "=================================================================\n",
      "embedding_2 (Embedding)      (None, 100, 32)           640000    \n",
      "_________________________________________________________________\n",
      "conv1d_3 (Conv1D)            (None, 100, 256)          24832     \n",
      "_________________________________________________________________\n",
      "max_pooling1d_3 (MaxPooling1 (None, 50, 256)           0         \n",
      "_________________________________________________________________\n",
      "dropout_5 (Dropout)          (None, 50, 256)           0         \n",
      "_________________________________________________________________\n",
      "conv1d_4 (Conv1D)            (None, 50, 128)           98432     \n",
      "_________________________________________________________________\n",
      "max_pooling1d_4 (MaxPooling1 (None, 25, 128)           0         \n",
      "_________________________________________________________________\n",
      "dropout_6 (Dropout)          (None, 25, 128)           0         \n",
      "_________________________________________________________________\n",
      "lstm_2 (LSTM)                (None, 25, 64)            49408     \n",
      "_________________________________________________________________\n",
      "lstm_3 (LSTM)                (None, 32)                12416     \n",
      "_________________________________________________________________\n",
      "flatten_1 (Flatten)          (None, 32)                0         \n",
      "_________________________________________________________________\n",
      "dense_3 (Dense)              (None, 250)               8250      \n",
      "_________________________________________________________________\n",
      "dropout_7 (Dropout)          (None, 250)               0         \n",
      "_________________________________________________________________\n",
      "dense_4 (Dense)              (None, 1)                 251       \n",
      "=================================================================\n",
      "Total params: 833,589\n",
      "Trainable params: 833,589\n",
      "Non-trainable params: 0\n",
      "_________________________________________________________________\n"
     ]
    }
   ],
   "source": [
    "model.summary()\n"
   ]
  },
  {
   "cell_type": "code",
   "execution_count": 51,
   "id": "ccf4a1be",
   "metadata": {
    "execution": {
     "iopub.execute_input": "2021-12-11T12:34:30.724751Z",
     "iopub.status.busy": "2021-12-11T12:34:30.723791Z",
     "iopub.status.idle": "2021-12-11T12:35:33.386468Z",
     "shell.execute_reply": "2021-12-11T12:35:33.385853Z",
     "shell.execute_reply.started": "2021-12-11T12:00:10.273860Z"
    },
    "papermill": {
     "duration": 62.812674,
     "end_time": "2021-12-11T12:35:33.386621",
     "exception": false,
     "start_time": "2021-12-11T12:34:30.573947",
     "status": "completed"
    },
    "tags": []
   },
   "outputs": [
    {
     "name": "stdout",
     "output_type": "stream",
     "text": [
      "Epoch 1/20\n",
      "313/313 - 7s - loss: 0.4356 - accuracy: 0.7802 - val_loss: 0.2968 - val_accuracy: 0.8702\n",
      "Epoch 2/20\n",
      "313/313 - 3s - loss: 0.2408 - accuracy: 0.9042 - val_loss: 0.2944 - val_accuracy: 0.8722\n",
      "Epoch 3/20\n",
      "313/313 - 3s - loss: 0.1623 - accuracy: 0.9403 - val_loss: 0.3486 - val_accuracy: 0.8673\n",
      "Epoch 4/20\n",
      "313/313 - 3s - loss: 0.1020 - accuracy: 0.9648 - val_loss: 0.4109 - val_accuracy: 0.8635\n",
      "Epoch 5/20\n",
      "313/313 - 3s - loss: 0.0620 - accuracy: 0.9800 - val_loss: 0.4801 - val_accuracy: 0.8623\n",
      "Epoch 6/20\n",
      "313/313 - 3s - loss: 0.0421 - accuracy: 0.9870 - val_loss: 0.5834 - val_accuracy: 0.8568\n",
      "Epoch 7/20\n",
      "313/313 - 3s - loss: 0.0349 - accuracy: 0.9880 - val_loss: 0.6256 - val_accuracy: 0.8469\n",
      "Epoch 8/20\n",
      "313/313 - 3s - loss: 0.0230 - accuracy: 0.9932 - val_loss: 0.7052 - val_accuracy: 0.8519\n",
      "Epoch 9/20\n",
      "313/313 - 3s - loss: 0.0240 - accuracy: 0.9919 - val_loss: 0.6855 - val_accuracy: 0.8501\n",
      "Epoch 10/20\n",
      "313/313 - 3s - loss: 0.0174 - accuracy: 0.9943 - val_loss: 0.6710 - val_accuracy: 0.8498\n",
      "Epoch 11/20\n",
      "313/313 - 3s - loss: 0.0148 - accuracy: 0.9952 - val_loss: 0.7064 - val_accuracy: 0.8557\n",
      "Epoch 12/20\n",
      "313/313 - 3s - loss: 0.0127 - accuracy: 0.9959 - val_loss: 0.9697 - val_accuracy: 0.8424\n",
      "Epoch 13/20\n",
      "313/313 - 3s - loss: 0.0100 - accuracy: 0.9971 - val_loss: 0.8613 - val_accuracy: 0.8531\n",
      "Epoch 14/20\n",
      "313/313 - 3s - loss: 0.0126 - accuracy: 0.9960 - val_loss: 0.7390 - val_accuracy: 0.8546\n",
      "Epoch 15/20\n",
      "313/313 - 3s - loss: 0.0092 - accuracy: 0.9973 - val_loss: 0.8782 - val_accuracy: 0.8431\n",
      "Epoch 16/20\n",
      "313/313 - 3s - loss: 0.0085 - accuracy: 0.9975 - val_loss: 1.0499 - val_accuracy: 0.8524\n",
      "Epoch 17/20\n",
      "313/313 - 3s - loss: 0.0126 - accuracy: 0.9962 - val_loss: 0.9467 - val_accuracy: 0.8504\n",
      "Epoch 18/20\n",
      "313/313 - 3s - loss: 0.0062 - accuracy: 0.9981 - val_loss: 0.9842 - val_accuracy: 0.8474\n",
      "Epoch 19/20\n",
      "313/313 - 3s - loss: 0.0092 - accuracy: 0.9971 - val_loss: 0.9589 - val_accuracy: 0.8511\n",
      "Epoch 20/20\n",
      "313/313 - 3s - loss: 0.0088 - accuracy: 0.9969 - val_loss: 0.9500 - val_accuracy: 0.8518\n"
     ]
    },
    {
     "data": {
      "text/plain": [
       "<keras.callbacks.History at 0x7fc8a2306150>"
      ]
     },
     "execution_count": 51,
     "metadata": {},
     "output_type": "execute_result"
    }
   ],
   "source": [
    "model.fit(X_train, y_train, validation_data=(X_test,y_test), epochs=20, batch_size=128, verbose=2)"
   ]
  },
  {
   "cell_type": "code",
   "execution_count": 52,
   "id": "fedc5e51",
   "metadata": {
    "execution": {
     "iopub.execute_input": "2021-12-11T12:35:33.707674Z",
     "iopub.status.busy": "2021-12-11T12:35:33.704398Z",
     "iopub.status.idle": "2021-12-11T12:35:34.958499Z",
     "shell.execute_reply": "2021-12-11T12:35:34.959128Z",
     "shell.execute_reply.started": "2021-12-11T12:01:13.214356Z"
    },
    "papermill": {
     "duration": 1.41598,
     "end_time": "2021-12-11T12:35:34.959315",
     "exception": false,
     "start_time": "2021-12-11T12:35:33.543335",
     "status": "completed"
    },
    "tags": []
   },
   "outputs": [
    {
     "name": "stdout",
     "output_type": "stream",
     "text": [
      "Evaluate Model Performance on Test set\n",
      "313/313 [==============================] - 1s 4ms/step - loss: 0.9500 - accuracy: 0.8518\n",
      "{'loss': 0.9499828219413757, 'accuracy': 0.8518000245094299}\n"
     ]
    }
   ],
   "source": [
    "print(\"Evaluate Model Performance on Test set\")\n",
    "result = model.evaluate(X_test,y_test)\n",
    "print(dict(zip(model.metrics_names, result)))"
   ]
  },
  {
   "cell_type": "markdown",
   "id": "af9a3254",
   "metadata": {
    "papermill": {
     "duration": 0.162603,
     "end_time": "2021-12-11T12:35:35.288181",
     "exception": false,
     "start_time": "2021-12-11T12:35:35.125578",
     "status": "completed"
    },
    "tags": []
   },
   "source": [
    "# Sources\n",
    "\n",
    "- http://konukoii.com/blog/2018/02/19/twitter-sentiment-analysis-using-combined-lstm-cnn-models/\n",
    "- https://arxiv.org/pdf/1408.5882.pdf\n",
    "- https://github.com/pytorch/ignite/blob/master/examples/notebooks/TextCNN.ipynb\n",
    "- https://www.kaggle.com/raghav2002sharma/sentiment-classifier-with-cnn-bi-lstm\n",
    "- https://www.kaggle.com/ashrafkhan94/imdb-review-comparison-using-cnn-lstm-bert\n",
    "- https://www.kaggle.com/parth05rohilla/bi-lstm-and-cnn-model-top-10/notebook\n",
    "- https://www.kaggle.com/c/movie-review-sentiment-analysis-kernels-only/code?competitionId=10025&searchQuery=cnn\n",
    "- https://colab.research.google.com/github/d2l-ai/d2l-en-colab/blob/master/chapter_natural-language-processing-applications/sentiment-analysis-cnn.ipynb\n",
    "- https://www.kaggle.com/nafisur/keras-models-lstm-cnn-gru-bidirectional-glove\n",
    "- https://www.kaggle.com/derrelldsouza/imdb-sentiment-analysis-eda-ml-lstm-bert#5.-Predictive-Modelling-using-Deep-Learning\n",
    "- https://www.kaggle.com/clementbrehard/imdb-conv1d-lstm"
   ]
  }
 ],
 "metadata": {
  "kernelspec": {
   "display_name": "Python 3",
   "language": "python",
   "name": "python3"
  },
  "language_info": {
   "codemirror_mode": {
    "name": "ipython",
    "version": 3
   },
   "file_extension": ".py",
   "mimetype": "text/x-python",
   "name": "python",
   "nbconvert_exporter": "python",
   "pygments_lexer": "ipython3",
   "version": "3.7.12"
  },
  "papermill": {
   "default_parameters": {},
   "duration": 426.76509,
   "end_time": "2021-12-11T12:35:39.071034",
   "environment_variables": {},
   "exception": null,
   "input_path": "__notebook__.ipynb",
   "output_path": "__notebook__.ipynb",
   "parameters": {},
   "start_time": "2021-12-11T12:28:32.305944",
   "version": "2.3.3"
  }
 },
 "nbformat": 4,
 "nbformat_minor": 5
}
