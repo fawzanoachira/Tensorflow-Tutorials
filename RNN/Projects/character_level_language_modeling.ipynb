{
  "cells": [
    {
      "cell_type": "markdown",
      "metadata": {
        "id": "irlFmDQTY8kD"
      },
      "source": [
        "# Character-level Language Modeling with LSTMs\n",
        "\n",
        "**Goals**\n",
        "* Download a small text corpus and preprocess it.\n",
        "* Extract a character vocabulary and use it to vectorize the text.\n",
        "* Train a LSTM-based character level language model.\n",
        "* Use the trained model to sample random text with varying entropy levels.\n",
        "* Implement a beam-serach deterministic decoder.\n",
        "\n",
        "**Dataset**\n",
        "* Eminem lyrics from [Kaggle](https://www.kaggle.com/paultimothymooney/poetry)."
      ]
    },
    {
      "cell_type": "code",
      "execution_count": null,
      "metadata": {
        "_cell_guid": "b1076dfc-b9ad-4769-8c92-a6c4dae69d19",
        "_uuid": "8f2839f25d086af736a60e9eeb907d3b93b6e0e5",
        "id": "8w9k9RixY8kH"
      },
      "outputs": [],
      "source": [
        "# Load packages\n",
        "import matplotlib.pyplot as plt\n",
        "import numpy as np\n",
        "\n",
        "from collections import Counter\n",
        "\n",
        "from nltk.corpus import gutenberg\n",
        "from nltk.tokenize import sent_tokenize\n",
        "\n",
        "from tensorflow.keras.layers import Dense, LSTM\n",
        "from tensorflow.keras.models import Sequential\n",
        "from tensorflow.keras.optimizers import RMSprop\n",
        "\n",
        "from sklearn.utils import shuffle"
      ]
    },
    {
      "cell_type": "markdown",
      "metadata": {
        "_cell_guid": "79c7e3d0-c299-4dcb-8224-4455121ee9b0",
        "_uuid": "d629ff2d2480ee46fbb7e2d37f6b5fab8052498a",
        "collapsed": true,
        "id": "-OTVKaV0Y8kJ"
      },
      "source": [
        "## Loading some text data\n",
        "\n",
        "We will use the lyrics from the different Eminem songs."
      ]
    },
    {
      "cell_type": "code",
      "execution_count": null,
      "metadata": {
        "colab": {
          "base_uri": "https://localhost:8080/"
        },
        "id": "fvM6REqWY8kK",
        "outputId": "22838b75-45e6-447c-9ed8-dd77ddf54b47"
      },
      "outputs": [
        {
          "output_type": "stream",
          "name": "stdout",
          "text": [
            "The corpus contains 322578 characters.\n"
          ]
        }
      ],
      "source": [
        "CORPUS_PATH = 'eminem.txt'\n",
        "text = open(CORPUS_PATH).read().lower()\n",
        "print(f'The corpus contains {len(text)} characters.')"
      ]
    },
    {
      "cell_type": "code",
      "execution_count": null,
      "metadata": {
        "colab": {
          "base_uri": "https://localhost:8080/"
        },
        "id": "HDB886zEY8kL",
        "outputId": "69b1bb69-afbf-4dc1-dc8d-0b4e0f88454a"
      },
      "outputs": [
        {
          "output_type": "stream",
          "name": "stdout",
          "text": [
            "look, i was gonna go easy on you and not to hurt your feelings\n",
            "but i'm only going to get this one ch ...\n"
          ]
        }
      ],
      "source": [
        "# Print the beginning of the corpus\n",
        "print(text[:100], '...')"
      ]
    },
    {
      "cell_type": "code",
      "execution_count": null,
      "metadata": {
        "id": "84w4JuaDY8kM"
      },
      "outputs": [],
      "source": [
        "# Replace '\\n' by ' '\n",
        "text = text.replace('\\n', ' ')"
      ]
    },
    {
      "cell_type": "code",
      "execution_count": null,
      "metadata": {
        "id": "3IMn2dJpY8kN"
      },
      "outputs": [],
      "source": [
        "# Split the data into train and test set\n",
        "split = int(0.9 * len(text))\n",
        "train_text = text[:split]\n",
        "test_test = text[split:]"
      ]
    },
    {
      "cell_type": "markdown",
      "metadata": {
        "id": "_VEGWY0sY8kO"
      },
      "source": [
        "## Building a vocabulary of all possible symbols\n",
        "\n",
        "To simplify things, we build a vocabulary by extracting the list of all possible characters from the full datasets (train and test). In a more realistic stting, we would need to take into account that the test data can hold symbols never seen in the training set. This issue is limited when we work at the character level though.\n",
        "\n",
        "Let's build the list of all possible characters and sort it to assign a unique integer to aech possible symbol in the corpus."
      ]
    },
    {
      "cell_type": "code",
      "execution_count": null,
      "metadata": {
        "colab": {
          "base_uri": "https://localhost:8080/"
        },
        "id": "J_4lct9jY8kO",
        "outputId": "b14f1fde-b709-4dcd-abe0-a4844f58c42e"
      },
      "outputs": [
        {
          "output_type": "stream",
          "name": "stdout",
          "text": [
            "Total number of characters: 60.\n"
          ]
        }
      ],
      "source": [
        "chars = sorted(list(set(text)))\n",
        "print(f'Total number of characters: {len(chars)}.')"
      ]
    },
    {
      "cell_type": "code",
      "execution_count": null,
      "metadata": {
        "id": "CZKuecPdY8kP"
      },
      "outputs": [],
      "source": [
        "char_indices = dict((c, i) for i, c in enumerate(chars))\n",
        "indices_char = dict((i, c) for i, c in enumerate(chars))"
      ]
    },
    {
      "cell_type": "markdown",
      "metadata": {
        "id": "0ByMATsjY8kP"
      },
      "source": [
        "The dictionnary `char_indices` is a mapping from characters to integer identifiers. And the dictionnary `indices_char` holds the reverse mapping.\n",
        "\n",
        "While not strictly required to build a language model, it is a good idea to have a look at the distribution of relative frequencies of each symbol in the corpus."
      ]
    },
    {
      "cell_type": "code",
      "execution_count": null,
      "metadata": {
        "id": "4R9h9sgiY8kP"
      },
      "outputs": [],
      "source": [
        "counter = Counter(text)\n",
        "chars, counts = zip(*counter.most_common())\n",
        "idx = np.arange(len(counts))"
      ]
    },
    {
      "cell_type": "code",
      "execution_count": null,
      "metadata": {
        "colab": {
          "base_uri": "https://localhost:8080/",
          "height": 228
        },
        "id": "oC0tu0-4Y8kP",
        "outputId": "e787f648-0909-49b5-81cb-83e8499a23c4"
      },
      "outputs": [
        {
          "output_type": "display_data",
          "data": {
            "text/plain": [
              "<Figure size 1400x300 with 1 Axes>"
            ],
            "image/png": "[encoded data removed]"
          },
          "metadata": {}
        }
      ],
      "source": [
        "plt.figure(figsize=(14, 3))\n",
        "plt.bar(idx, counts, 0.8)\n",
        "plt.xticks(idx, chars)\n",
        "plt.show()"
      ]
    },
    {
      "cell_type": "markdown",
      "metadata": {
        "id": "AWZ1hcPzY8kQ"
      },
      "source": [
        "Let's cut the dataset into fake sentences at random with some overlap. Instead of cutting at random, we could use a English specific sentence tokenizer."
      ]
    },
    {
      "cell_type": "code",
      "execution_count": null,
      "metadata": {
        "id": "GBcco1edY8kQ"
      },
      "outputs": [],
      "source": [
        "def make_sequence(text, max_length=40, step=3):\n",
        "    sequences = []\n",
        "    next_chars = []\n",
        "    for i in range(0, len(text) - max_length, step):\n",
        "        sequences.append(text[i:(i + max_length)])\n",
        "        next_chars.append(text[i + max_length])\n",
        "    return sequences, next_chars"
      ]
    },
    {
      "cell_type": "code",
      "execution_count": null,
      "metadata": {
        "id": "YJncBNLHY8kQ"
      },
      "outputs": [],
      "source": [
        "MAX_LENGTH = 40\n",
        "STEP = 3\n",
        "\n",
        "sequences, next_chars = make_sequence(train_text, MAX_LENGTH, STEP)\n",
        "sequences_test, next_chars_test = make_sequence(test_test, MAX_LENGTH, step=10)"
      ]
    },
    {
      "cell_type": "code",
      "execution_count": null,
      "metadata": {
        "colab": {
          "base_uri": "https://localhost:8080/"
        },
        "id": "m6meg8aAY8kQ",
        "outputId": "39a349cd-b1fd-4f61-aa7b-a5c871b8ef45"
      },
      "outputs": [
        {
          "output_type": "stream",
          "name": "stdout",
          "text": [
            "There are 96760 train sequences and 3222 test sequences.\n"
          ]
        }
      ],
      "source": [
        "print(f'There are {len(sequences)} train sequences and {len(sequences_test)} test sequences.')"
      ]
    },
    {
      "cell_type": "markdown",
      "metadata": {
        "id": "ERVpMON9Y8kQ"
      },
      "source": [
        "Let's shuffle the sequences to break some of the dependencies."
      ]
    },
    {
      "cell_type": "code",
      "execution_count": null,
      "metadata": {
        "id": "m8bMaKm9Y8kQ"
      },
      "outputs": [],
      "source": [
        "sequences, next_chars = shuffle(sequences, next_chars, random_state=42)"
      ]
    },
    {
      "cell_type": "code",
      "execution_count": null,
      "metadata": {
        "colab": {
          "base_uri": "https://localhost:8080/"
        },
        "id": "LWzgNtkxY8kQ",
        "outputId": "dd5f72ea-501a-4407-c01a-fe0b0ef5e39f"
      },
      "outputs": [
        {
          "output_type": "stream",
          "name": "stdout",
          "text": [
            "The first sequence is `yhem 'til the a.m. so crank the bass up ` and the first next character is `l`.\n"
          ]
        }
      ],
      "source": [
        "print(f'The first sequence is `{sequences[0]}` and the first next character is `{next_chars[0]}`.')"
      ]
    },
    {
      "cell_type": "markdown",
      "metadata": {
        "id": "R1H2CJLgY8kR"
      },
      "source": [
        "## Converting the training data to one-hot vectors\n",
        "\n",
        "Unfortunately, the LSTM implementation in Keras does not accept integer indices to slice columns from an input embedding by itself. Let's use one-hot encoding. This is slightly less space and time efficient than integer coding but should be good enough when using a small character level vocabulary.\n",
        "\n",
        "Let's hot encoded the training data `sequences` as X and `next_chars` as y."
      ]
    },
    {
      "cell_type": "code",
      "execution_count": null,
      "metadata": {
        "id": "SDdIRKZtY8kR"
      },
      "outputs": [],
      "source": [
        "n_sequences = len(sequences)\n",
        "n_sequences_test = len(sequences_test)\n",
        "vocab_size = len(chars)\n",
        "\n",
        "X = np.zeros((n_sequences, MAX_LENGTH, vocab_size),\n",
        "             dtype=np.float32)\n",
        "X_test = np.zeros((n_sequences_test, MAX_LENGTH, vocab_size),\n",
        "                  dtype=np.float32)\n",
        "y = np.zeros((n_sequences, vocab_size),\n",
        "             dtype=np.float32)\n",
        "y_test = np.zeros((n_sequences_test, vocab_size),\n",
        "                  dtype=np.float32)\n",
        "\n",
        "# Fill the training data\n",
        "for i, sequence in enumerate(sequences):\n",
        "    y[i, char_indices[next_chars[i]]] = 1\n",
        "    for j, char in enumerate(sequence):\n",
        "        X[i, j, char_indices[char]] = 1\n",
        "\n",
        "# Fill the test data\n",
        "for i, sequence in enumerate(sequences_test):\n",
        "    y_test[i, char_indices[next_chars_test[i]]] = 1\n",
        "    for j, char in enumerate(sequence):\n",
        "        X_test[i, j, char_indices[char]] = 1"
      ]
    },
    {
      "cell_type": "code",
      "execution_count": null,
      "metadata": {
        "colab": {
          "base_uri": "https://localhost:8080/"
        },
        "id": "wXWi4dJkY8kR",
        "outputId": "026e2eee-a796-4192-f6ae-ede859742983"
      },
      "outputs": [
        {
          "output_type": "stream",
          "name": "stdout",
          "text": [
            "Shape of the tensor X: (96760, 40, 60), shape of the matrix y: (96760, 60).\n"
          ]
        }
      ],
      "source": [
        "print(f'Shape of the tensor X: {X.shape}, shape of the matrix y: {y.shape}.')"
      ]
    },
    {
      "cell_type": "markdown",
      "metadata": {
        "id": "I6Yrt3FgY8kR"
      },
      "source": [
        "## Measuring per-character perplexity\n",
        "\n",
        "The NLP community measures the quality of probabilistic model using [perplexity](https://en.wikipedia.org/wiki/Perplexity). In practice, perplexity is just a base $2$ exponentiation of the average negative $\\log_2$ likelihoods:\n",
        "$$P_{\\theta} = 2^{-\\frac{1}{n}\\sum_{i = 1}^n \\log_2(p_{\\theta}(x_i))}$$\n",
        "\n",
        "Note: here, we deinfe the **per-character perplexity** (because our model naturally makes per-character predictions). **It is more common to report per-word perplexity**. This is not as easy to compute the per-word perplexity as we would need to tokenize the strings into a sequence af words and discard whitespace and punctuation character predictions. In practice, the whitespace character is the most frequent character by far making our naive per-character perplexity lower than it should be if we ignored those.\n",
        "\n",
        "Let's compute the per-character perplexity with model predicted probabilities `y_pred` and `y_true` for the encoded ground thuth. A perfect model has a minimal perplexity of $1.0$ (negative log-likelihood of $0.0$)."
      ]
    },
    {
      "cell_type": "code",
      "execution_count": null,
      "metadata": {
        "id": "QwGlKy4tY8kR"
      },
      "outputs": [],
      "source": [
        "def perplexity(y_true, y_pred):\n",
        "    \"\"\"Compute the per-character perplexity of model predictions.\n",
        "\n",
        "    :param y_true: One-hot encoded ground truth\n",
        "    :param y_pred: Predicted likelihoods for each class\n",
        "\n",
        "    :return: 2 ** -mean(log2(p))\n",
        "    \"\"\"\n",
        "    likelihoods = np.sum(y_pred * y_true, axis=1)\n",
        "    return 2 ** (-np.mean(np.log2(likelihoods)))"
      ]
    },
    {
      "cell_type": "markdown",
      "metadata": {
        "id": "cJmac9UzY8kR"
      },
      "source": [
        "## Building a recurrent model\n",
        "\n",
        "Let's buld a first model and train it on a very small subset of the data to check it works at expected."
      ]
    },
    {
      "cell_type": "code",
      "execution_count": null,
      "metadata": {
        "colab": {
          "base_uri": "https://localhost:8080/"
        },
        "id": "YnXadmbZY8kR",
        "outputId": "b99a591c-ab4c-42df-decb-32476d3c1c0b"
      },
      "outputs": [
        {
          "output_type": "stream",
          "name": "stderr",
          "text": [
            "WARNING:absl:`lr` is deprecated in Keras optimizer, please use `learning_rate` or use the legacy optimizer, e.g.,tf.keras.optimizers.legacy.RMSprop.\n"
          ]
        }
      ],
      "source": [
        "# Build the model\n",
        "model = Sequential()\n",
        "model.add(LSTM(128, input_shape=(MAX_LENGTH, vocab_size)))\n",
        "model.add(Dense(vocab_size, activation='softmax'))\n",
        "\n",
        "optimizer = RMSprop(lr=0.01)\n",
        "model.compile(optimizer=optimizer, loss='categorical_crossentropy')"
      ]
    },
    {
      "cell_type": "markdown",
      "metadata": {
        "id": "wN_mxuXpY8kR"
      },
      "source": [
        "Let's measure the perplexity of the randomly initialized model."
      ]
    },
    {
      "cell_type": "code",
      "execution_count": null,
      "metadata": {
        "id": "7o-9elc4Y8kS"
      },
      "outputs": [],
      "source": [
        "def model_perplexity(model, X, y):\n",
        "    predictions = model(X)\n",
        "    return perplexity(y, predictions)"
      ]
    },
    {
      "cell_type": "code",
      "execution_count": null,
      "metadata": {
        "colab": {
          "base_uri": "https://localhost:8080/"
        },
        "id": "PSR2gKq1Y8kS",
        "outputId": "dcb69eee-9c3a-483c-c541-6d6ffa97f789"
      },
      "outputs": [
        {
          "output_type": "stream",
          "name": "stdout",
          "text": [
            "The model perplexity on the untrained model is 60.28958760925215.\n"
          ]
        }
      ],
      "source": [
        "print(f'The model perplexity on the untrained model is {model_perplexity(model, X_test, y_test)}.')"
      ]
    },
    {
      "cell_type": "markdown",
      "metadata": {
        "id": "Ssd-8CJwY8kS"
      },
      "source": [
        "Let's train the model for one epoch on a very small subset of the training set to check that it is well defined."
      ]
    },
    {
      "cell_type": "code",
      "execution_count": null,
      "metadata": {
        "colab": {
          "base_uri": "https://localhost:8080/"
        },
        "id": "w0msw-XoY8kS",
        "outputId": "66b2c52f-2502-4b56-c049-9c29d8c846d1"
      },
      "outputs": [
        {
          "output_type": "stream",
          "name": "stdout",
          "text": [
            "18/18 [==============================] - 3s 88ms/step - loss: 3.4330 - val_loss: 3.2644\n"
          ]
        }
      ],
      "source": [
        "small_train = slice(0, None, 40)\n",
        "history = model.fit(X[small_train], y[small_train], validation_split=0.1,\n",
        "                    batch_size=128, epochs=1)"
      ]
    },
    {
      "cell_type": "code",
      "execution_count": null,
      "metadata": {
        "colab": {
          "base_uri": "https://localhost:8080/"
        },
        "id": "5SxFO3ylY8kS",
        "outputId": "f25df7ba-b048-4fb6-edf6-f85ed592d1f8"
      },
      "outputs": [
        {
          "output_type": "stream",
          "name": "stdout",
          "text": [
            "The model perplexity on the model trained one epoch is 27.285623812356697.\n"
          ]
        }
      ],
      "source": [
        "print(f'The model perplexity on the model trained one epoch is {model_perplexity(model, X_test, y_test)}.')"
      ]
    },
    {
      "cell_type": "markdown",
      "metadata": {
        "id": "11enrC_ZY8kS"
      },
      "source": [
        "## Sampling random text from the model\n",
        "\n",
        "Recursively generate one character at a time by sampling from the distribution parameterized by the model:\n",
        "$$p_{\\theta}(c_n \\vert c_{n-1}, \\dots, c_0) \\cdot p_{\\theta}(c_{n-1} \\vert c_{n-2}, \\dots, c_0) \\cdot \\dots \\cdot p_{\\theta}(c_0).$$\n",
        "This way of parametrizing the joint probability of a set of random variables that are structured sequentially is called **auto-regressive modeling**.\n",
        "The temperature parameter makes it possible to remove additional entropy (bias) into the parameterized multinoulli distribution of the output of the model."
      ]
    },
    {
      "cell_type": "code",
      "execution_count": null,
      "metadata": {
        "id": "dl0F0dNLY8kS"
      },
      "outputs": [],
      "source": [
        "def sample_one(preds, temperature=1.0):\n",
        "    \"\"\"Sample the next character according to the network output.\n",
        "\n",
        "    Use a lower temperature to force the model to output more\n",
        "    confident predictions: more peaky distribution.\n",
        "\n",
        "    Draw a single sample (size=1) from a multinoulli distribution\n",
        "    parameterized by the ouput of the softmax layer of our network.\n",
        "    A multinoulli distribution is a multinomial distribution with\n",
        "    a single trial with n_classes outcomes.\n",
        "    \"\"\"\n",
        "    preds = np.asarray(preds).astype('float64')\n",
        "    preds = np.log(preds) / temperature\n",
        "    exp_preds = np.exp(preds)\n",
        "    preds = exp_preds / np.sum(exp_preds)\n",
        "\n",
        "    probs = np.random.multinomial(1, preds, size=1)\n",
        "    return np.argmax(probs)\n",
        "\n",
        "def generate_text(model, seed_string, length=300, temperature=1.0):\n",
        "    \"\"\"Recursively sample a sequence of characters, one at a time.\n",
        "\n",
        "    Each prediction is concatenated to the past string of predicted\n",
        "    characters so as to condition the next prediction.\n",
        "\n",
        "    Feed seed string as a sequence of characters to condition the\n",
        "    first predictions recursively. If see_string is lower than\n",
        "    MAX_LENGTH, pad the input with zeros at the beginning of the\n",
        "    conditioning string.\n",
        "    \"\"\"\n",
        "    generated = seed_string\n",
        "    prefix = seed_string\n",
        "\n",
        "    for i in range(length):\n",
        "        # Vectorize prefix string to feed as input to the model\n",
        "        x = np.zeros((1, MAX_LENGTH, vocab_size), dtype='float32')\n",
        "        shift = MAX_LENGTH - len(prefix)\n",
        "        for j, char in enumerate(prefix):\n",
        "            x[0, j + shift, char_indices[char]] = 1\n",
        "\n",
        "        preds = model(x)[0]\n",
        "        next_index = sample_one(preds, temperature)\n",
        "        next_char = indices_char[next_index]\n",
        "\n",
        "        generated += next_char\n",
        "        prefix = prefix[1:] + next_char\n",
        "    return generated"
      ]
    },
    {
      "cell_type": "markdown",
      "metadata": {
        "id": "iHl5rkIxY8kS"
      },
      "source": [
        "The temperature parameter mmakes it possible to increase or decrease the entropy into the multinouli distribution parametrized by the output of the model.\n",
        "\n",
        "Temperature lower than $1$ will yield very regular text (biased towards the most frequent patterns of the training set). Temperatures higher than $1$ will render the model \"more creative\" but also noisier (with a large fraction of meaningless words). A temperature of $1$ is neutral (the noise of the generated text only stems from the imperfection of the model)."
      ]
    },
    {
      "cell_type": "code",
      "execution_count": null,
      "metadata": {
        "colab": {
          "base_uri": "https://localhost:8080/"
        },
        "id": "zn34llBGY8kV",
        "outputId": "4e4a945c-3802-45b9-af08-646fda41bb43"
      },
      "outputs": [
        {
          "output_type": "stream",
          "name": "stdout",
          "text": [
            "Test with a temperature lower than 1: moms spaghetti          .\n"
          ]
        }
      ],
      "source": [
        "print(f'Test with a temperature lower than 1: {generate_text(model, \"moms spaghetti\", length=10, temperature=0.1)}.')"
      ]
    },
    {
      "cell_type": "code",
      "execution_count": null,
      "metadata": {
        "colab": {
          "base_uri": "https://localhost:8080/"
        },
        "id": "Om_KSdMBY8kV",
        "outputId": "d13499fc-c7b8-4d59-af72-aee49af30890"
      },
      "outputs": [
        {
          "output_type": "stream",
          "name": "stdout",
          "text": [
            "Test with a temperature larger than 1: moms spaghettidsla;irha .\n"
          ]
        }
      ],
      "source": [
        "print(f'Test with a temperature larger than 1: {generate_text(model, \"moms spaghetti\", length=10, temperature=1.9)}.')"
      ]
    },
    {
      "cell_type": "markdown",
      "metadata": {
        "id": "E8NVfbgXY8kV"
      },
      "source": [
        "## Training the model\n",
        "\n",
        "Let's train the model and monitor the perplexity after each epoch."
      ]
    },
    {
      "cell_type": "code",
      "execution_count": null,
      "metadata": {
        "collapsed": true,
        "colab": {
          "base_uri": "https://localhost:8080/"
        },
        "id": "DCQQAtYjY8kZ",
        "outputId": "45f6b8fa-2d0e-48b2-e08c-042a2d55bfec"
      },
      "outputs": [
        {
          "output_type": "stream",
          "name": "stdout",
          "text": [
            "681/681 [==============================] - 50s 73ms/step - loss: 2.6894 - val_loss: 2.4368\n",
            "681/681 [==============================] - 48s 70ms/step - loss: 2.3353 - val_loss: 2.2474\n"
          ]
        }
      ],
      "source": [
        "NB_EPOCHS = 2\n",
        "seed_strings = ['love the way you lie', 'moms spaghetti']\n",
        "\n",
        "history = []\n",
        "perplexity_test = []\n",
        "for epoch in range(NB_EPOCHS):\n",
        "    history_epoch = model.fit(X, y, validation_split=0.1,\n",
        "                              batch_size=128, verbose=1)\n",
        "    history.append(history_epoch.history)\n",
        "    perplexity_test.append(model_perplexity(model, X_test, y_test))"
      ]
    },
    {
      "cell_type": "code",
      "execution_count": null,
      "metadata": {
        "colab": {
          "base_uri": "https://localhost:8080/"
        },
        "id": "R7UFmoTQY8kZ",
        "outputId": "82f8da99-f236-4e45-a6fa-49323c8ea397"
      },
      "outputs": [
        {
          "output_type": "stream",
          "name": "stdout",
          "text": [
            "Sampling text from model at 0.1:\n",
            "love the way you lie the the the the sous and in the the the the sou the the the sou the the the the the the the the the \n",
            "\n",
            "moms spaghetting the the the the the the the the the the the sous and the the the the the the the the the the the  \n",
            "\n",
            "Sampling text from model at 0.5:\n",
            "love the way you lie the ing era the to dot tour ang in the sor me hor the 'o thas wat int i'm art ro thes malld couk th \n",
            "\n",
            "moms spaghettin the lith i ghes at thpe she se mere lal the in wave fo meo fout i re and fow and you the fout you  \n",
            "\n",
            "Sampling text from model at 1:\n",
            "love the way you lied oulcon'p uts a pomes iome yon womnat rhaglock tel hathe o breik u pare wer?atnt dakit b o pherdeam \n",
            "\n",
            "moms spaghetti t ous insa sgous iud whorit iny wa moshe juk ve lckuy cou lerorlil' fatrm llaet i sackrs wver, yout \n",
            "\n"
          ]
        }
      ],
      "source": [
        "for temperature in [0.1, 0.5 ,1]:\n",
        "    print(f'Sampling text from model at {temperature}:')\n",
        "    for seed_string in seed_strings:\n",
        "        print(generate_text(model, seed_string, length=100, temperature=temperature), '\\n')"
      ]
    },
    {
      "cell_type": "markdown",
      "metadata": {
        "id": "K1v_3nYmY8kZ"
      },
      "source": [
        "## Better handling of sentence boundaries\n",
        "\n",
        "To simplify things, we used the lower case version of the text and we ignored any sentence boundaries. This prevents our model to learn when to stop generating characters. If we want to train a model that can start generating text at the beginning of a sentence and stop at the end of a sentence, we need to provide it with sentence boundary markers in the training set and use those special markers when sampling.\n",
        "\n",
        "The following give an example of how to use NLTK to detect sentence boundaries in English text. This could be used to insert an explicit \"end_of_sentence\" (EOS) symbol to mark separation betweeen two consecutive sentences. This should make it possible to train a language model that explicitly generates complete sentences from start to end."
      ]
    },
    {
      "cell_type": "code",
      "execution_count": null,
      "metadata": {
        "id": "mrrOr6wQY8kZ"
      },
      "outputs": [],
      "source": [
        "text_with_case = open(CORPUS_PATH).read().replace('\\n', ' ')"
      ]
    },
    {
      "cell_type": "code",
      "source": [
        "import nltk\n",
        "nltk.download('punkt')\n",
        "nltk."
      ],
      "metadata": {
        "colab": {
          "base_uri": "https://localhost:8080/"
        },
        "id": "JJpWawNBgEmt",
        "outputId": "53a556d3-96c4-465e-a91f-e4a1297a0792"
      },
      "execution_count": null,
      "outputs": [
        {
          "output_type": "stream",
          "name": "stderr",
          "text": [
            "[nltk_data] Downloading package punkt to /root/nltk_data...\n",
            "[nltk_data]   Unzipping tokenizers/punkt.zip.\n"
          ]
        },
        {
          "output_type": "execute_result",
          "data": {
            "text/plain": [
              "True"
            ]
          },
          "metadata": {},
          "execution_count": 36
        }
      ]
    },
    {
      "cell_type": "code",
      "execution_count": null,
      "metadata": {
        "id": "bAy4eggBY8kZ"
      },
      "outputs": [],
      "source": [
        "sentences = sent_tokenize(text_with_case)"
      ]
    },
    {
      "cell_type": "code",
      "execution_count": null,
      "metadata": {
        "colab": {
          "base_uri": "https://localhost:8080/",
          "height": 472
        },
        "id": "Y1ni3IvIY8kZ",
        "outputId": "d19fc189-8592-4a92-d0c6-5e2fcca9f4ab"
      },
      "outputs": [
        {
          "output_type": "display_data",
          "data": {
            "text/plain": [
              "<Figure size 640x480 with 1 Axes>"
            ],
            "image/png": "[encoded data removed]"
          },
          "metadata": {}
        }
      ],
      "source": [
        "plt.hist([len(s.split()) for s in sentences], bins=100)\n",
        "plt.title('Distribution of sentence lengths')\n",
        "plt.xlabel('Approximate number of words')\n",
        "plt.show()"
      ]
    },
    {
      "cell_type": "markdown",
      "metadata": {
        "id": "SiH8Ipu1Y8kZ"
      },
      "source": [
        "The first few sentences detected by NLTK are too short to be considered real sentences. Let's have a look at short sentences wwith at least $20$ characters."
      ]
    },
    {
      "cell_type": "code",
      "execution_count": null,
      "metadata": {
        "id": "8qOmPkjsY8kZ"
      },
      "outputs": [],
      "source": [
        "sorted_sentences = sorted([s for s in sentences if len(s) > 20], key=len)"
      ]
    },
    {
      "cell_type": "code",
      "execution_count": null,
      "metadata": {
        "colab": {
          "base_uri": "https://localhost:8080/"
        },
        "id": "sB-GYtOdY8ka",
        "outputId": "c3d1fb51-005d-4029-9bdd-3a2ae4e49d3b"
      },
      "outputs": [
        {
          "output_type": "stream",
          "name": "stdout",
          "text": [
            "Do you like violence?\n",
            "Am I comin' or goin'?\n",
            "Do you like violence?\n",
            "Am I comin' or goin'?\n",
            "I don't know help me!\n"
          ]
        }
      ],
      "source": [
        "for s in sorted_sentences[:5]:\n",
        "    print(s)"
      ]
    },
    {
      "cell_type": "markdown",
      "metadata": {
        "id": "v6T2mZKLY8ka"
      },
      "source": [
        "The NLTK sentence tokenizer seems to do a reasonable job. Note that here we se the original case information because it can help the NLTK sentence boundary detection model make better split decisions. Out text corpus is probably too small to train a good sentece aweare language model though, especially with full case information. Using larger corpora such as large collection of [public domain books](http://www.gutenberg.org/) or Wikipedia dumps. The NLTK toolkit also comes from [corpus loading utilities](http://www.nltk.org/book/ch02.html).\n",
        "\n",
        "The following loads a selection of famous books from the Gutenberg project archive."
      ]
    },
    {
      "cell_type": "code",
      "execution_count": null,
      "metadata": {
        "colab": {
          "base_uri": "https://localhost:8080/",
          "height": 1000
        },
        "id": "0df2ZjHtY8ka",
        "outputId": "08248042-86a9-431e-d2e7-8ad2f622b3a5"
      },
      "outputs": [
        {
          "output_type": "error",
          "ename": "LookupError",
          "evalue": "\n**********************************************************************\n  Resource \u001b[93mgutenberg\u001b[0m not found.\n  Please use the NLTK Downloader to obtain the resource:\n\n  \u001b[31m>>> import nltk\n  >>> nltk.download('gutenberg')\n  \u001b[0m\n  For more information see: https://www.nltk.org/data.html\n\n  Attempted to load \u001b[93mcorpora/gutenberg\u001b[0m\n\n  Searched in:\n    - '/root/nltk_data'\n    - '/usr/nltk_data'\n    - '/usr/share/nltk_data'\n    - '/usr/lib/nltk_data'\n    - '/usr/share/nltk_data'\n    - '/usr/local/share/nltk_data'\n    - '/usr/lib/nltk_data'\n    - '/usr/local/lib/nltk_data'\n**********************************************************************\n",
          "traceback": [
            "\u001b[0;31m---------------------------------------------------------------------------\u001b[0m",
            "\u001b[0;31mLookupError\u001b[0m                               Traceback (most recent call last)",
            "\u001b[0;32m/usr/local/lib/python3.10/dist-packages/nltk/corpus/util.py\u001b[0m in \u001b[0;36m__load\u001b[0;34m(self)\u001b[0m\n\u001b[1;32m     83\u001b[0m                 \u001b[0;32mtry\u001b[0m\u001b[0;34m:\u001b[0m\u001b[0;34m\u001b[0m\u001b[0;34m\u001b[0m\u001b[0m\n\u001b[0;32m---> 84\u001b[0;31m                     \u001b[0mroot\u001b[0m \u001b[0;34m=\u001b[0m \u001b[0mnltk\u001b[0m\u001b[0;34m.\u001b[0m\u001b[0mdata\u001b[0m\u001b[0;34m.\u001b[0m\u001b[0mfind\u001b[0m\u001b[0;34m(\u001b[0m\u001b[0;34mf\"{self.subdir}/{zip_name}\"\u001b[0m\u001b[0;34m)\u001b[0m\u001b[0;34m\u001b[0m\u001b[0;34m\u001b[0m\u001b[0m\n\u001b[0m\u001b[1;32m     85\u001b[0m                 \u001b[0;32mexcept\u001b[0m \u001b[0mLookupError\u001b[0m\u001b[0;34m:\u001b[0m\u001b[0;34m\u001b[0m\u001b[0;34m\u001b[0m\u001b[0m\n",
            "\u001b[0;32m/usr/local/lib/python3.10/dist-packages/nltk/data.py\u001b[0m in \u001b[0;36mfind\u001b[0;34m(resource_name, paths)\u001b[0m\n\u001b[1;32m    582\u001b[0m     \u001b[0mresource_not_found\u001b[0m \u001b[0;34m=\u001b[0m \u001b[0;34mf\"\\n{sep}\\n{msg}\\n{sep}\\n\"\u001b[0m\u001b[0;34m\u001b[0m\u001b[0;34m\u001b[0m\u001b[0m\n\u001b[0;32m--> 583\u001b[0;31m     \u001b[0;32mraise\u001b[0m \u001b[0mLookupError\u001b[0m\u001b[0;34m(\u001b[0m\u001b[0mresource_not_found\u001b[0m\u001b[0;34m)\u001b[0m\u001b[0;34m\u001b[0m\u001b[0;34m\u001b[0m\u001b[0m\n\u001b[0m\u001b[1;32m    584\u001b[0m \u001b[0;34m\u001b[0m\u001b[0m\n",
            "\u001b[0;31mLookupError\u001b[0m: \n**********************************************************************\n  Resource \u001b[93mgutenberg\u001b[0m not found.\n  Please use the NLTK Downloader to obtain the resource:\n\n  \u001b[31m>>> import nltk\n  >>> nltk.download('gutenberg')\n  \u001b[0m\n  For more information see: https://www.nltk.org/data.html\n\n  Attempted to load \u001b[93mcorpora/gutenberg.zip/gutenberg/\u001b[0m\n\n  Searched in:\n    - '/root/nltk_data'\n    - '/usr/nltk_data'\n    - '/usr/share/nltk_data'\n    - '/usr/lib/nltk_data'\n    - '/usr/share/nltk_data'\n    - '/usr/local/share/nltk_data'\n    - '/usr/lib/nltk_data'\n    - '/usr/local/lib/nltk_data'\n**********************************************************************\n",
            "\nDuring handling of the above exception, another exception occurred:\n",
            "\u001b[0;31mLookupError\u001b[0m                               Traceback (most recent call last)",
            "\u001b[0;32m<ipython-input-41-bb9768368bce>\u001b[0m in \u001b[0;36m<cell line: 1>\u001b[0;34m()\u001b[0m\n\u001b[0;32m----> 1\u001b[0;31m \u001b[0mbook_selection_text\u001b[0m \u001b[0;34m=\u001b[0m \u001b[0mgutenberg\u001b[0m\u001b[0;34m.\u001b[0m\u001b[0mraw\u001b[0m\u001b[0;34m(\u001b[0m\u001b[0;34m)\u001b[0m\u001b[0;34m.\u001b[0m\u001b[0mreplace\u001b[0m\u001b[0;34m(\u001b[0m\u001b[0;34m'\\n'\u001b[0m\u001b[0;34m,\u001b[0m \u001b[0;34m' '\u001b[0m\u001b[0;34m)\u001b[0m\u001b[0;34m\u001b[0m\u001b[0;34m\u001b[0m\u001b[0m\n\u001b[0m",
            "\u001b[0;32m/usr/local/lib/python3.10/dist-packages/nltk/corpus/util.py\u001b[0m in \u001b[0;36m__getattr__\u001b[0;34m(self, attr)\u001b[0m\n\u001b[1;32m    119\u001b[0m             \u001b[0;32mraise\u001b[0m \u001b[0mAttributeError\u001b[0m\u001b[0;34m(\u001b[0m\u001b[0;34m\"LazyCorpusLoader object has no attribute '__bases__'\"\u001b[0m\u001b[0;34m)\u001b[0m\u001b[0;34m\u001b[0m\u001b[0;34m\u001b[0m\u001b[0m\n\u001b[1;32m    120\u001b[0m \u001b[0;34m\u001b[0m\u001b[0m\n\u001b[0;32m--> 121\u001b[0;31m         \u001b[0mself\u001b[0m\u001b[0;34m.\u001b[0m\u001b[0m__load\u001b[0m\u001b[0;34m(\u001b[0m\u001b[0;34m)\u001b[0m\u001b[0;34m\u001b[0m\u001b[0;34m\u001b[0m\u001b[0m\n\u001b[0m\u001b[1;32m    122\u001b[0m         \u001b[0;31m# This looks circular, but its not, since __load() changes our\u001b[0m\u001b[0;34m\u001b[0m\u001b[0;34m\u001b[0m\u001b[0m\n\u001b[1;32m    123\u001b[0m         \u001b[0;31m# __class__ to something new:\u001b[0m\u001b[0;34m\u001b[0m\u001b[0;34m\u001b[0m\u001b[0m\n",
            "\u001b[0;32m/usr/local/lib/python3.10/dist-packages/nltk/corpus/util.py\u001b[0m in \u001b[0;36m__load\u001b[0;34m(self)\u001b[0m\n\u001b[1;32m     84\u001b[0m                     \u001b[0mroot\u001b[0m \u001b[0;34m=\u001b[0m \u001b[0mnltk\u001b[0m\u001b[0;34m.\u001b[0m\u001b[0mdata\u001b[0m\u001b[0;34m.\u001b[0m\u001b[0mfind\u001b[0m\u001b[0;34m(\u001b[0m\u001b[0;34mf\"{self.subdir}/{zip_name}\"\u001b[0m\u001b[0;34m)\u001b[0m\u001b[0;34m\u001b[0m\u001b[0;34m\u001b[0m\u001b[0m\n\u001b[1;32m     85\u001b[0m                 \u001b[0;32mexcept\u001b[0m \u001b[0mLookupError\u001b[0m\u001b[0;34m:\u001b[0m\u001b[0;34m\u001b[0m\u001b[0;34m\u001b[0m\u001b[0m\n\u001b[0;32m---> 86\u001b[0;31m                     \u001b[0;32mraise\u001b[0m \u001b[0me\u001b[0m\u001b[0;34m\u001b[0m\u001b[0;34m\u001b[0m\u001b[0m\n\u001b[0m\u001b[1;32m     87\u001b[0m \u001b[0;34m\u001b[0m\u001b[0m\n\u001b[1;32m     88\u001b[0m         \u001b[0;31m# Load the corpus.\u001b[0m\u001b[0;34m\u001b[0m\u001b[0;34m\u001b[0m\u001b[0m\n",
            "\u001b[0;32m/usr/local/lib/python3.10/dist-packages/nltk/corpus/util.py\u001b[0m in \u001b[0;36m__load\u001b[0;34m(self)\u001b[0m\n\u001b[1;32m     79\u001b[0m         \u001b[0;32melse\u001b[0m\u001b[0;34m:\u001b[0m\u001b[0;34m\u001b[0m\u001b[0;34m\u001b[0m\u001b[0m\n\u001b[1;32m     80\u001b[0m             \u001b[0;32mtry\u001b[0m\u001b[0;34m:\u001b[0m\u001b[0;34m\u001b[0m\u001b[0;34m\u001b[0m\u001b[0m\n\u001b[0;32m---> 81\u001b[0;31m                 \u001b[0mroot\u001b[0m \u001b[0;34m=\u001b[0m \u001b[0mnltk\u001b[0m\u001b[0;34m.\u001b[0m\u001b[0mdata\u001b[0m\u001b[0;34m.\u001b[0m\u001b[0mfind\u001b[0m\u001b[0;34m(\u001b[0m\u001b[0;34mf\"{self.subdir}/{self.__name}\"\u001b[0m\u001b[0;34m)\u001b[0m\u001b[0;34m\u001b[0m\u001b[0;34m\u001b[0m\u001b[0m\n\u001b[0m\u001b[1;32m     82\u001b[0m             \u001b[0;32mexcept\u001b[0m \u001b[0mLookupError\u001b[0m \u001b[0;32mas\u001b[0m \u001b[0me\u001b[0m\u001b[0;34m:\u001b[0m\u001b[0;34m\u001b[0m\u001b[0;34m\u001b[0m\u001b[0m\n\u001b[1;32m     83\u001b[0m                 \u001b[0;32mtry\u001b[0m\u001b[0;34m:\u001b[0m\u001b[0;34m\u001b[0m\u001b[0;34m\u001b[0m\u001b[0m\n",
            "\u001b[0;32m/usr/local/lib/python3.10/dist-packages/nltk/data.py\u001b[0m in \u001b[0;36mfind\u001b[0;34m(resource_name, paths)\u001b[0m\n\u001b[1;32m    581\u001b[0m     \u001b[0msep\u001b[0m \u001b[0;34m=\u001b[0m \u001b[0;34m\"*\"\u001b[0m \u001b[0;34m*\u001b[0m \u001b[0;36m70\u001b[0m\u001b[0;34m\u001b[0m\u001b[0;34m\u001b[0m\u001b[0m\n\u001b[1;32m    582\u001b[0m     \u001b[0mresource_not_found\u001b[0m \u001b[0;34m=\u001b[0m \u001b[0;34mf\"\\n{sep}\\n{msg}\\n{sep}\\n\"\u001b[0m\u001b[0;34m\u001b[0m\u001b[0;34m\u001b[0m\u001b[0m\n\u001b[0;32m--> 583\u001b[0;31m     \u001b[0;32mraise\u001b[0m \u001b[0mLookupError\u001b[0m\u001b[0;34m(\u001b[0m\u001b[0mresource_not_found\u001b[0m\u001b[0;34m)\u001b[0m\u001b[0;34m\u001b[0m\u001b[0;34m\u001b[0m\u001b[0m\n\u001b[0m\u001b[1;32m    584\u001b[0m \u001b[0;34m\u001b[0m\u001b[0m\n\u001b[1;32m    585\u001b[0m \u001b[0;34m\u001b[0m\u001b[0m\n",
            "\u001b[0;31mLookupError\u001b[0m: \n**********************************************************************\n  Resource \u001b[93mgutenberg\u001b[0m not found.\n  Please use the NLTK Downloader to obtain the resource:\n\n  \u001b[31m>>> import nltk\n  >>> nltk.download('gutenberg')\n  \u001b[0m\n  For more information see: https://www.nltk.org/data.html\n\n  Attempted to load \u001b[93mcorpora/gutenberg\u001b[0m\n\n  Searched in:\n    - '/root/nltk_data'\n    - '/usr/nltk_data'\n    - '/usr/share/nltk_data'\n    - '/usr/lib/nltk_data'\n    - '/usr/share/nltk_data'\n    - '/usr/local/share/nltk_data'\n    - '/usr/lib/nltk_data'\n    - '/usr/local/lib/nltk_data'\n**********************************************************************\n"
          ]
        }
      ],
      "source": [
        "book_selection_text = gutenberg.raw().replace('\\n', ' ')"
      ]
    },
    {
      "cell_type": "code",
      "execution_count": null,
      "metadata": {
        "id": "DLpLcMIcY8ka",
        "outputId": "da3ccea0-0a55-4acc-9d2f-d874cc9b6e15"
      },
      "outputs": [
        {
          "name": "stdout",
          "output_type": "stream",
          "text": [
            "Book corpus length: 11793318 characters.\n"
          ]
        }
      ],
      "source": [
        "print(f'Book corpus length: {len(book_selection_text)} characters.')"
      ]
    },
    {
      "cell_type": "markdown",
      "metadata": {
        "id": "xqtbtFdZY8ka"
      },
      "source": [
        "## Why build a language model?\n",
        "\n",
        "Building a language model is not very useful by itself. However language models have recently been shown to be useful for transfer learning to build contextualized word embeddings as a better alternative to word2vec or GloVe.\n",
        "\n",
        "Using language-model based word representations makes it possible to reach the state-of-the-art at many natural language understanding problems.\n",
        "\n",
        "The workflow is the following:\n",
        "* train a (bi-directional) deep language model on a very large, unlabeled corpus (e.g. 1 billion words or more);\n",
        "* plug the resulting language model as the input layer (and sometimes also the output layer) of a task specific architecture,\n",
        "    for instance: text classification, semantic role labeling for knowledge extraction, logical entailment, question answering and reading comprehension;\n",
        "* train the task specific parameters of the new architecture on the smaller task-labeled corpus;\n",
        "* optionally, fine-tune the full architecture on the task-labeled corpus if it's big enough not to overfit.\n",
        "\n",
        "More information on this approach:\n",
        "* Devlin, Jacob, et al. \"Bert: Pre-training of deep bidirectional transformers for language understanding.\" [link](https://arxiv.org/pdf/1810.04805.pdf)\n",
        "* Deep contextualized word representations, [link](https://arxiv.org/abs/1802.05365)\n",
        "* Pytorch implementation of ELMo as part of the AllenNLP project: [link](https://github.com/allenai/allennlp)\n",
        "* Fine-tuned Language Models for Text Classification: [link](https://arxiv.org/abs/1801.06146) (FitLaM)"
      ]
    }
  ],
  "metadata": {
    "kernelspec": {
      "display_name": "Python 3",
      "language": "python",
      "name": "python3"
    },
    "language_info": {
      "codemirror_mode": {
        "name": "ipython",
        "version": 3
      },
      "file_extension": ".py",
      "mimetype": "text/x-python",
      "name": "python",
      "nbconvert_exporter": "python",
      "pygments_lexer": "ipython3",
      "version": "3.7.6"
    },
    "colab": {
      "provenance": []
    }
  },
  "nbformat": 4,
  "nbformat_minor": 0
}