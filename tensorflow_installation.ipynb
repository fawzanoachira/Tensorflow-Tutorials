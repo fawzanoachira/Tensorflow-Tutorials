{
  "cells": [
    {
      "cell_type": "markdown",
      "metadata": {
        "id": "LNmHzsyEcxp1"
      },
      "source": [
        "#**Install TensorFlow 2**\n",
        "\n",
        "**TensorFlow is tested and supported on the following 64-bit systems:**\n",
        "\n",
        "    * Python 3.8–3.11\n",
        "    * Ubuntu 16.04 or later\n",
        "    * Windows 7 or later (with C++ redistributable)\n",
        "    * macOS 10.12.6 (Sierra) or later (no GPU support)\n",
        "    * WSL2 via Windows 10 19044 or higher including GPUs (Experimental)"
      ]
    },
    {
      "cell_type": "code",
      "execution_count": null,
      "metadata": {
        "id": "PTcfGOgrcuQl"
      },
      "outputs": [],
      "source": [
        "# Requires the latest pip\n",
        "pip install --upgrade pip\n",
        "\n",
        "# Current stable release for CPU and GPU\n",
        "pip install tensorflow\n",
        "\n",
        "# Or try the preview build (unstable)\n",
        "pip install tf-nightly"
      ]
    },
    {
      "cell_type": "markdown",
      "metadata": {
        "id": "Fgg0EJPtdPq7"
      },
      "source": [
        "#**Download package**\n",
        "\n",
        "**Install TensorFlow with Python's pip package manager.**\n",
        "\n",
        "For Linux:\n",
        "\n",
        "    python3 -m pip install tensorflow[and-cuda]\n",
        "    # Verify the installation:\n",
        "    python3 -c \"import tensorflow as tf; print(tf.config.list_physical_devices('GPU'))\"\n",
        "\n",
        "For Windows:\n",
        "\n",
        "    python3 -m pip install tensorflow[and-cuda]\n",
        "    # Verify the installation:\n",
        "    python3 -c \"import tensorflow as tf; print(tf.config.list_physical_devices('GPU'))\"\n",
        "\n",
        "For MacOS:\n",
        "\n",
        "    # There is currently no official GPU support for MacOS.\n",
        "    python3 -m pip install tensorflow\n",
        "    # Verify the installation:\n",
        "    python3 -c \"import tensorflow as tf; print(tf.reduce_sum(tf.random.normal([1000, 1000])))\"\n",
        "\n"
      ]
    },
    {
      "cell_type": "code",
      "execution_count": null,
      "metadata": {
        "id": "Q95XgYOgdMDx"
      },
      "outputs": [],
      "source": []
    }
  ],
  "metadata": {
    "colab": {
      "provenance": []
    },
    "kernelspec": {
      "display_name": "Python 3",
      "name": "python3"
    },
    "language_info": {
      "name": "python"
    }
  },
  "nbformat": 4,
  "nbformat_minor": 0
}
